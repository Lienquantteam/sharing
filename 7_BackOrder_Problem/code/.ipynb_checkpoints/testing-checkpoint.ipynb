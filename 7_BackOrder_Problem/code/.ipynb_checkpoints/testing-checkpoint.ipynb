{
 "cells": [
  {
   "cell_type": "code",
   "execution_count": 2,
   "metadata": {},
   "outputs": [
    {
     "data": {
      "text/html": [
       "<style>.container { width:100% !important; }</style>"
      ],
      "text/plain": [
       "<IPython.core.display.HTML object>"
      ]
     },
     "metadata": {},
     "output_type": "display_data"
    }
   ],
   "source": [
    "from IPython.core.display import display, HTML\n",
    "display(HTML(\"<style>.container { width:100% !important; }</style>\"))"
   ]
  },
  {
   "cell_type": "code",
   "execution_count": 39,
   "metadata": {},
   "outputs": [],
   "source": [
    "# Importing the packages\n",
    "import pandas as pd\n",
    "import numpy as np\n",
    "import csv\n",
    "import matplotlib.pylab as plt\n",
    "import seaborn as sns\n",
    "from sklearn.externals import joblib\n",
    "%matplotlib inline  "
   ]
  },
  {
   "cell_type": "code",
   "execution_count": 74,
   "metadata": {},
   "outputs": [],
   "source": [
    "def main(file_name):\n",
    "#     try:\n",
    "        print(\"Reading file csv\")\n",
    "        test = pd.read_csv('../dataset/{}'.format(file_name))\n",
    "\n",
    "        data = test.copy()\n",
    "        del data[\"sku\"]\n",
    "\n",
    "        # renaming all columns in the table\n",
    "        data.columns = ['Current_inventory',\n",
    "                      'Transit_time', \n",
    "                      'Product_transit',\n",
    "                      'Forecast_sales_3_months',\n",
    "                      'Forecast_sales_6_months',\n",
    "                      'Forecast_sales_9_months',\n",
    "                      'Sales_quantity_1_months',\n",
    "                      'Sales_quantity_3_months',\n",
    "                      'Sales_quantity_6_months',\n",
    "                      'Sales_quantity_9_months',\n",
    "                      'Minimum_recommended_stock',\n",
    "                      'Source_issue_identifying',\n",
    "                      'Overdue',\n",
    "                      'Source_performance_6_months',\n",
    "                      'Source_performance_12_months',\n",
    "                      'Stock_orders_overdue',\n",
    "                      'Flag_deck_risk',\n",
    "                      'Flag_oe_constraint',\n",
    "                      'Flag_ppap_risk',\n",
    "                      'Flag_stop_auto_buy',\n",
    "                      'Flag_rev_stop']\n",
    "\n",
    "\n",
    "        # Handling Nan and missing values\n",
    "        print(\"Handling Nan and missing values\")\n",
    "\n",
    "        # fill null with median value\n",
    "        data['Transit_time']=data.Transit_time.fillna(data.Transit_time.median())\n",
    "\n",
    "        # Replace -99 with Nan\n",
    "        data.Source_performance_6_months.replace({-99.00:np.nan}, inplace=True)\n",
    "        data.Source_performance_12_months.replace({-99.00:np.nan}, inplace=True)\n",
    "\n",
    "        # Replace -99 with Nan\n",
    "        data.Source_performance_6_months.replace({-99.00:np.nan}, inplace=True)\n",
    "        data.Source_performance_12_months.replace({-99.00:np.nan}, inplace=True)\n",
    "\n",
    "\n",
    "        # load the model from disk\n",
    "        linReg = joblib.load(\"../model/predict_6months.sav\")\n",
    "\n",
    "        # predicted Nan values\n",
    "        test_12months = data[data.Source_performance_6_months.isnull() &\n",
    "                           data.Source_performance_12_months.notnull()][['Source_performance_12_months']]\n",
    "        try:\n",
    "            pred_6months = linReg.predict(test_12months)\n",
    "\n",
    "            # fill the null values\n",
    "            print(\"Filling the null values\")\n",
    "\n",
    "            reg_6_months_list = list(zip(test_12months.index, pred_6months))\n",
    "            for val in reg_6_months_list:\n",
    "                  data.set_value(index=val[0], value =val[1], col='Source_performance_6_months')\n",
    "        except:\n",
    "            pass\n",
    "        \n",
    "        #Check if the value is inserted\n",
    "        data.Source_performance_6_months.isnull().sum()\n",
    "\n",
    "        # impute null with median\n",
    "        data.Source_performance_6_months.fillna(data.Source_performance_6_months.median(), inplace=True)\n",
    "\n",
    "        #impute null with median\n",
    "        data.Source_performance_12_months.fillna(data.Source_performance_12_months.median(), \n",
    "                                                 inplace=True)\n",
    "\n",
    "        # calculate the repeatition of 0 in each column\n",
    "        perct_0  = {column: '%2.2f' % ( ((data[column] == 0).sum()/(data.shape[0]))*100 ) + \n",
    "                    '%' for column in data.columns if (data[column].dtype == np.float64) or \n",
    "                    data[column].dtype == np.int}\n",
    "\n",
    "        del_cols = ['Product_transit', 'Overdue', 'Stock_orders_overdue']\n",
    "\n",
    "        # drop the column having more than 60% of 0's\n",
    "        data = data.drop(del_cols, axis=1)\n",
    "\n",
    "\n",
    "        for col in ['Source_issue_identifying', 'Flag_deck_risk', 'Flag_oe_constraint',\n",
    "                    'Flag_ppap_risk', 'Flag_stop_auto_buy', 'Flag_rev_stop']:\n",
    "            data[col] = data[col].astype('category')\n",
    "\n",
    "        del data[\"Flag_rev_stop\"]\n",
    "\n",
    "        X = data[data.columns]\n",
    "        dat = X.replace(\"Yes\", 1)\n",
    "        dat = dat.replace(\"No\", 0)\n",
    "\n",
    "        # load the model from disk\n",
    "        print(\"load model ... \")\n",
    "        RF = joblib.load(\"../model/RF_Tree_cv89.sav\")\n",
    "\n",
    "        y_test_pred= RF.predict(dat)\n",
    "\n",
    "        out = y_test_pred.tolist()\n",
    "        for num, each in enumerate(out):\n",
    "            if each == 0:\n",
    "                out[num] = -1\n",
    "            else:\n",
    "                pass\n",
    "\n",
    "        def write_list_to_file(guest_list, filename):\n",
    "            \"\"\"Write the list to csv file.\"\"\"\n",
    "\n",
    "            with open(filename, \"w\") as outfile:\n",
    "                for entries in guest_list:\n",
    "                    outfile.write(str(entries))\n",
    "                    outfile.write(\"\\n\")\n",
    "\n",
    "        write_list_to_file(out, \"../output/predicted_value.csv\")\n",
    "        print(\"writed the predicted values to '../output/predicted_value.csv'\")\n",
    "        \n",
    "#     except:\n",
    "#         print(\"There are some errors, please check again! \")"
   ]
  },
  {
   "cell_type": "code",
   "execution_count": 75,
   "metadata": {},
   "outputs": [
    {
     "name": "stdout",
     "output_type": "stream",
     "text": [
      "Reading file csv\n",
      "Handling Nan and missing values\n",
      "load model ... \n",
      "writed the predicted values to '../output/predicted_value.csv'\n"
     ]
    }
   ],
   "source": [
    "main(\"../input/test_set_sample.csv\")"
   ]
  },
  {
   "cell_type": "code",
   "execution_count": null,
   "metadata": {},
   "outputs": [],
   "source": []
  }
 ],
 "metadata": {
  "kernelspec": {
   "display_name": "Python 3",
   "language": "python",
   "name": "python3"
  },
  "language_info": {
   "codemirror_mode": {
    "name": "ipython",
    "version": 3
   },
   "file_extension": ".py",
   "mimetype": "text/x-python",
   "name": "python",
   "nbconvert_exporter": "python",
   "pygments_lexer": "ipython3",
   "version": "3.7.3"
  }
 },
 "nbformat": 4,
 "nbformat_minor": 2
}
