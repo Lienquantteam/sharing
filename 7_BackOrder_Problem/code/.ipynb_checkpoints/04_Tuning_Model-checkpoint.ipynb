{
 "cells": [
  {
   "cell_type": "code",
   "execution_count": 1,
   "metadata": {},
   "outputs": [
    {
     "data": {
      "text/html": [
       "<style>.container { width:100% !important; }</style>"
      ],
      "text/plain": [
       "<IPython.core.display.HTML object>"
      ]
     },
     "metadata": {},
     "output_type": "display_data"
    }
   ],
   "source": [
    "from IPython.core.display import display, HTML\n",
    "display(HTML(\"<style>.container { width:100% !important; }</style>\"))"
   ]
  },
  {
   "cell_type": "code",
   "execution_count": 2,
   "metadata": {},
   "outputs": [
    {
     "name": "stderr",
     "output_type": "stream",
     "text": [
      "/root/anaconda3/lib/python3.7/site-packages/sklearn/externals/joblib/__init__.py:15: DeprecationWarning: sklearn.externals.joblib is deprecated in 0.21 and will be removed in 0.23. Please import this functionality directly from joblib, which can be installed with: pip install joblib. If this warning is raised when loading pickled models, you may need to re-serialize those models with scikit-learn 0.21+.\n",
      "  warnings.warn(msg, category=DeprecationWarning)\n"
     ]
    }
   ],
   "source": [
    "import time\n",
    "import pandas as pd\n",
    "import numpy as np\n",
    "import matplotlib.pylab as plt\n",
    "import seaborn as sns\n",
    "from sklearn.model_selection import train_test_split \n",
    "from sklearn.metrics import classification_report\n",
    "from sklearn.metrics import roc_curve\n",
    "from sklearn.model_selection import cross_val_score\n",
    "from sklearn.model_selection import GridSearchCV\n",
    "from sklearn.model_selection import RandomizedSearchCV \n",
    "from sklearn.ensemble import RandomForestClassifier\n",
    "from sklearn.ensemble import AdaBoostClassifier\n",
    "from sklearn.ensemble import GradientBoostingClassifier\n",
    "from sklearn.metrics import confusion_matrix\n",
    "from sklearn.metrics import recall_score\n",
    "from sklearn.metrics import precision_score\n",
    "from sklearn.metrics import average_precision_score\n",
    "from sklearn.metrics import precision_recall_curve\n",
    "from sklearn.externals import joblib\n",
    "%matplotlib inline"
   ]
  },
  {
   "cell_type": "code",
   "execution_count": 3,
   "metadata": {},
   "outputs": [
    {
     "data": {
      "text/html": [
       "<div>\n",
       "<style scoped>\n",
       "    .dataframe tbody tr th:only-of-type {\n",
       "        vertical-align: middle;\n",
       "    }\n",
       "\n",
       "    .dataframe tbody tr th {\n",
       "        vertical-align: top;\n",
       "    }\n",
       "\n",
       "    .dataframe thead th {\n",
       "        text-align: right;\n",
       "    }\n",
       "</style>\n",
       "<table border=\"1\" class=\"dataframe\">\n",
       "  <thead>\n",
       "    <tr style=\"text-align: right;\">\n",
       "      <th></th>\n",
       "      <th>Current_inventory</th>\n",
       "      <th>Transit_time</th>\n",
       "      <th>Forecast_sales_3_months</th>\n",
       "      <th>Forecast_sales_6_months</th>\n",
       "      <th>Forecast_sales_9_months</th>\n",
       "      <th>Sales_quantity_1_months</th>\n",
       "      <th>Sales_quantity_3_months</th>\n",
       "      <th>Sales_quantity_6_months</th>\n",
       "      <th>Sales_quantity_9_months</th>\n",
       "      <th>Minimum_recommended_stock</th>\n",
       "      <th>Source_issue_identifying</th>\n",
       "      <th>Source_performance_6_months</th>\n",
       "      <th>Source_performance_12_months</th>\n",
       "      <th>Flag_deck_risk</th>\n",
       "      <th>Flag_oe_constraint</th>\n",
       "      <th>Flag_ppap_risk</th>\n",
       "      <th>Flag_stop_auto_buy</th>\n",
       "      <th>Backordered</th>\n",
       "    </tr>\n",
       "  </thead>\n",
       "  <tbody>\n",
       "    <tr>\n",
       "      <th>0</th>\n",
       "      <td>0</td>\n",
       "      <td>8.0</td>\n",
       "      <td>0</td>\n",
       "      <td>0</td>\n",
       "      <td>0</td>\n",
       "      <td>0</td>\n",
       "      <td>0</td>\n",
       "      <td>0</td>\n",
       "      <td>0</td>\n",
       "      <td>0</td>\n",
       "      <td>0</td>\n",
       "      <td>0.88</td>\n",
       "      <td>0.87</td>\n",
       "      <td>0</td>\n",
       "      <td>0</td>\n",
       "      <td>0</td>\n",
       "      <td>1</td>\n",
       "      <td>0</td>\n",
       "    </tr>\n",
       "    <tr>\n",
       "      <th>1</th>\n",
       "      <td>2</td>\n",
       "      <td>9.0</td>\n",
       "      <td>0</td>\n",
       "      <td>0</td>\n",
       "      <td>0</td>\n",
       "      <td>0</td>\n",
       "      <td>0</td>\n",
       "      <td>0</td>\n",
       "      <td>0</td>\n",
       "      <td>0</td>\n",
       "      <td>0</td>\n",
       "      <td>0.99</td>\n",
       "      <td>0.99</td>\n",
       "      <td>0</td>\n",
       "      <td>0</td>\n",
       "      <td>0</td>\n",
       "      <td>1</td>\n",
       "      <td>0</td>\n",
       "    </tr>\n",
       "    <tr>\n",
       "      <th>2</th>\n",
       "      <td>2</td>\n",
       "      <td>8.0</td>\n",
       "      <td>0</td>\n",
       "      <td>0</td>\n",
       "      <td>0</td>\n",
       "      <td>0</td>\n",
       "      <td>0</td>\n",
       "      <td>0</td>\n",
       "      <td>0</td>\n",
       "      <td>0</td>\n",
       "      <td>0</td>\n",
       "      <td>0.88</td>\n",
       "      <td>0.87</td>\n",
       "      <td>1</td>\n",
       "      <td>0</td>\n",
       "      <td>0</td>\n",
       "      <td>1</td>\n",
       "      <td>0</td>\n",
       "    </tr>\n",
       "    <tr>\n",
       "      <th>3</th>\n",
       "      <td>7</td>\n",
       "      <td>8.0</td>\n",
       "      <td>0</td>\n",
       "      <td>0</td>\n",
       "      <td>0</td>\n",
       "      <td>0</td>\n",
       "      <td>0</td>\n",
       "      <td>0</td>\n",
       "      <td>0</td>\n",
       "      <td>1</td>\n",
       "      <td>0</td>\n",
       "      <td>0.10</td>\n",
       "      <td>0.13</td>\n",
       "      <td>0</td>\n",
       "      <td>0</td>\n",
       "      <td>0</td>\n",
       "      <td>1</td>\n",
       "      <td>0</td>\n",
       "    </tr>\n",
       "    <tr>\n",
       "      <th>4</th>\n",
       "      <td>8</td>\n",
       "      <td>8.0</td>\n",
       "      <td>0</td>\n",
       "      <td>0</td>\n",
       "      <td>0</td>\n",
       "      <td>0</td>\n",
       "      <td>0</td>\n",
       "      <td>0</td>\n",
       "      <td>4</td>\n",
       "      <td>2</td>\n",
       "      <td>0</td>\n",
       "      <td>0.88</td>\n",
       "      <td>0.87</td>\n",
       "      <td>1</td>\n",
       "      <td>0</td>\n",
       "      <td>0</td>\n",
       "      <td>1</td>\n",
       "      <td>0</td>\n",
       "    </tr>\n",
       "  </tbody>\n",
       "</table>\n",
       "</div>"
      ],
      "text/plain": [
       "   Current_inventory  Transit_time  Forecast_sales_3_months  \\\n",
       "0                  0           8.0                        0   \n",
       "1                  2           9.0                        0   \n",
       "2                  2           8.0                        0   \n",
       "3                  7           8.0                        0   \n",
       "4                  8           8.0                        0   \n",
       "\n",
       "   Forecast_sales_6_months  Forecast_sales_9_months  Sales_quantity_1_months  \\\n",
       "0                        0                        0                        0   \n",
       "1                        0                        0                        0   \n",
       "2                        0                        0                        0   \n",
       "3                        0                        0                        0   \n",
       "4                        0                        0                        0   \n",
       "\n",
       "   Sales_quantity_3_months  Sales_quantity_6_months  Sales_quantity_9_months  \\\n",
       "0                        0                        0                        0   \n",
       "1                        0                        0                        0   \n",
       "2                        0                        0                        0   \n",
       "3                        0                        0                        0   \n",
       "4                        0                        0                        4   \n",
       "\n",
       "   Minimum_recommended_stock  Source_issue_identifying  \\\n",
       "0                          0                         0   \n",
       "1                          0                         0   \n",
       "2                          0                         0   \n",
       "3                          1                         0   \n",
       "4                          2                         0   \n",
       "\n",
       "   Source_performance_6_months  Source_performance_12_months  Flag_deck_risk  \\\n",
       "0                         0.88                          0.87               0   \n",
       "1                         0.99                          0.99               0   \n",
       "2                         0.88                          0.87               1   \n",
       "3                         0.10                          0.13               0   \n",
       "4                         0.88                          0.87               1   \n",
       "\n",
       "   Flag_oe_constraint  Flag_ppap_risk  Flag_stop_auto_buy  Backordered  \n",
       "0                   0               0                   1            0  \n",
       "1                   0               0                   1            0  \n",
       "2                   0               0                   1            0  \n",
       "3                   0               0                   1            0  \n",
       "4                   0               0                   1            0  "
      ]
     },
     "execution_count": 3,
     "metadata": {},
     "output_type": "execute_result"
    }
   ],
   "source": [
    "# read and validate the previously cleaned file\n",
    "data = pd.read_csv('../dataset/02_training_set_cleaned_for_modeling.csv')\n",
    "data.head()"
   ]
  },
  {
   "cell_type": "code",
   "execution_count": 4,
   "metadata": {},
   "outputs": [
    {
     "name": "stdout",
     "output_type": "stream",
     "text": [
      "X shape:  (987847, 17) \n",
      "y shape:  (987847,)\n"
     ]
    }
   ],
   "source": [
    "# prepare the data for modelling\n",
    "X = data[data.columns]\n",
    "del X[\"Backordered\"]\n",
    "y =data['Backordered']\n",
    "print(\"X shape: \", X.shape, \"\\ny shape: \" , y.shape)"
   ]
  },
  {
   "cell_type": "code",
   "execution_count": 5,
   "metadata": {},
   "outputs": [
    {
     "data": {
      "text/plain": [
       "((691492, 17), (691492,), (296355, 17))"
      ]
     },
     "execution_count": 5,
     "metadata": {},
     "output_type": "execute_result"
    }
   ],
   "source": [
    "X_train, X_test, y_train, y_test = train_test_split(X, y, test_size=.30, random_state=42) \n",
    "X_train.shape , y_train.shape,  X_test.shape"
   ]
  },
  {
   "cell_type": "markdown",
   "metadata": {},
   "source": [
    "So till now we have **cleaned-up the data and performed the default classification** to check the **precision score on 20% of the data**. Based on the analysis until now, I chose to move ahead with** RandomForestClassifier, GradientBoostingClassifier, AdaBoostClassifier**.  My next step will be to tune all the three models and train them with 70% of the data. Rest **30% will be used for validation**."
   ]
  },
  {
   "cell_type": "markdown",
   "metadata": {},
   "source": [
    "### 1. RandomForestClassifier Tuning and Training"
   ]
  },
  {
   "cell_type": "code",
   "execution_count": 6,
   "metadata": {},
   "outputs": [
    {
     "name": "stdout",
     "output_type": "stream",
     "text": [
      "Tuned Decision Tree Parameters: {'n_estimators': 150, 'min_samples_leaf': 10, 'max_features': 'auto', 'criterion': 'entropy'}\n",
      "Best score is 0.8541223445404209\n",
      "\n",
      "time:  714.476892709732\n"
     ]
    }
   ],
   "source": [
    "# setup the parameters and distributions to sample from: param_dist\n",
    "param_dist = {\"n_estimators\":[10, 20 , 50, 100, 150],\n",
    "              \"max_features\":['auto', 'sqrt', 'log2'],\n",
    "              \"criterion\": [\"gini\", \"entropy\"],\n",
    "              \"min_samples_leaf\":[5, 10, 50]\n",
    "             }\n",
    "\n",
    "# instantiate a Decision Tree classifier: tree\n",
    "tree = RandomForestClassifier()\n",
    "\n",
    "# instantiate the RandomizedSearchCV object: tree_cv\n",
    "tree_cv = RandomizedSearchCV (tree, \n",
    "                              param_dist, \n",
    "                              cv=5, \n",
    "                              scoring='precision',\n",
    "                              n_jobs=-1)\n",
    "\n",
    "# start count time\n",
    "start_time = time.time()\n",
    "\n",
    "# fit it to the data\n",
    "tree_cv.fit(X_train,y_train)\n",
    "\n",
    "# print the tuned parameters and score\n",
    "print(\"Tuned Decision Tree Parameters: {}\".format(tree_cv.best_params_))\n",
    "print(\"Best score is {}\".format(tree_cv.best_score_))\n",
    "\n",
    "# calculate time\n",
    "elapsed_time = time.time() - start_time\n",
    "\n",
    "print(\"\\ntime: \", elapsed_time)"
   ]
  },
  {
   "cell_type": "code",
   "execution_count": 7,
   "metadata": {},
   "outputs": [
    {
     "data": {
      "text/plain": [
       "{'n_estimators': 150,\n",
       " 'min_samples_leaf': 10,\n",
       " 'max_features': 'auto',\n",
       " 'criterion': 'entropy'}"
      ]
     },
     "execution_count": 7,
     "metadata": {},
     "output_type": "execute_result"
    }
   ],
   "source": [
    "tree_cv.best_params_"
   ]
  },
  {
   "cell_type": "code",
   "execution_count": 8,
   "metadata": {},
   "outputs": [
    {
     "name": "stdout",
     "output_type": "stream",
     "text": [
      "rfModel_Precision:  [0.82307692 0.76687117 0.76363636 0.84516129 0.83660131 0.80851064\n",
      " 0.82222222 0.79245283 0.83018868 0.75796178]\n",
      "rfModel_Precision.mean() :  0.8046683203263129\n",
      "\n",
      "time:  367.0354437828064\n"
     ]
    }
   ],
   "source": [
    "# Tuned RandomForestClassifier and cross validated\n",
    "rfmodel= RandomForestClassifier(n_estimators=tree_cv.best_params_['n_estimators'], \n",
    "                                criterion=tree_cv.best_params_['criterion'], \n",
    "                                max_features=tree_cv.best_params_['max_features'] ,\n",
    "                                random_state=30,\n",
    "                                n_jobs=-1)\n",
    "\n",
    "# start count time\n",
    "start_time = time.time()\n",
    "\n",
    "rfModel_Precision = cross_val_score(rfmodel,\n",
    "                                    X_train,\n",
    "                                    y_train, \n",
    "                                    cv=10,\n",
    "                                    scoring='precision',\n",
    "                                    n_jobs=-1)\n",
    "\n",
    "print(\"rfModel_Precision: \", rfModel_Precision)\n",
    "print(\"rfModel_Precision.mean() : \", rfModel_Precision.mean())\n",
    "\n",
    "# calculate time\n",
    "elapsed_time = time.time() - start_time\n",
    "\n",
    "print(\"\\ntime: \", elapsed_time)"
   ]
  },
  {
   "cell_type": "code",
   "execution_count": 9,
   "metadata": {},
   "outputs": [
    {
     "name": "stdout",
     "output_type": "stream",
     "text": [
      "              precision    recall  f1-score   support\n",
      "\n",
      "           0       0.99      1.00      0.99    293244\n",
      "           1       0.87      0.01      0.03      3111\n",
      "\n",
      "    accuracy                           0.99    296355\n",
      "   macro avg       0.93      0.51      0.51    296355\n",
      "weighted avg       0.99      0.99      0.98    296355\n",
      "\n",
      "\n",
      "time:  5.077332258224487\n"
     ]
    }
   ],
   "source": [
    "# start count time\n",
    "start_time = time.time()\n",
    "\n",
    "# test with 30% data\n",
    "y_test_pred= tree_cv.predict(X_test)\n",
    "print(classification_report(y_test,y_test_pred))\n",
    "\n",
    "# calculate time\n",
    "elapsed_time = time.time() - start_time\n",
    "\n",
    "print(\"\\ntime: \", elapsed_time)"
   ]
  },
  {
   "cell_type": "code",
   "execution_count": 10,
   "metadata": {},
   "outputs": [
    {
     "name": "stdout",
     "output_type": "stream",
     "text": [
      "              precision    recall  f1-score   support\n",
      "\n",
      "           0       0.99      1.00      1.00    293244\n",
      "           1       0.81      0.18      0.29      3111\n",
      "\n",
      "    accuracy                           0.99    296355\n",
      "   macro avg       0.90      0.59      0.64    296355\n",
      "weighted avg       0.99      0.99      0.99    296355\n",
      "\n",
      "\n",
      "time:  50.512372970581055\n"
     ]
    }
   ],
   "source": [
    "# start count time\n",
    "start_time = time.time()\n",
    "\n",
    "# training with the best paras\n",
    "rfmodel.fit(X_train,y_train)\n",
    "\n",
    "# test with 30% data\n",
    "y_test_pred= rfmodel.predict(X_test)\n",
    "print(classification_report(y_test,y_test_pred))\n",
    "\n",
    "# calculate time\n",
    "elapsed_time = time.time() - start_time\n",
    "\n",
    "joblib.dump(rfmodel, \"../model/rfmodel81.sav\")\n",
    "print(\"\\ntime: \", elapsed_time)"
   ]
  },
  {
   "cell_type": "markdown",
   "metadata": {},
   "source": [
    "### 2. GradientBoostingClassifier Tuning and Training\n",
    "\n"
   ]
  },
  {
   "cell_type": "code",
   "execution_count": 11,
   "metadata": {},
   "outputs": [
    {
     "name": "stderr",
     "output_type": "stream",
     "text": [
      "/root/anaconda3/lib/python3.7/site-packages/joblib/externals/loky/process_executor.py:706: UserWarning: A worker stopped while some jobs were given to the executor. This can be caused by a too short worker timeout or by a memory leak.\n",
      "  \"timeout or by a memory leak.\", UserWarning\n"
     ]
    },
    {
     "name": "stdout",
     "output_type": "stream",
     "text": [
      "Tuned Decision Tree Parameters: {'subsample': 1, 'n_estimators': 500, 'min_samples_leaf': 20, 'learning_rate': 0.1}\n",
      "Best score is 0.5942347185493121\n",
      "\n",
      "time:  4032.124409198761\n"
     ]
    }
   ],
   "source": [
    "# setup the parameters and distributions to sample from: param_dist\n",
    "\n",
    "param_dist = {'learning_rate': [0.1, 0.05, 0.02, 0.01],\n",
    "              'min_samples_leaf': [5, 20, 50,100,150],\n",
    "              'n_estimators': [100, 200, 500],\n",
    "              'subsample':[.5, .8, 1]}\n",
    "\n",
    "# instantiate a Decision Tree classifier: tree\n",
    "gm = GradientBoostingClassifier()\n",
    "\n",
    "# instantiate the RandomizedSearchCV object: tree_cv\n",
    "gm_cv = RandomizedSearchCV(gm,\n",
    "                           param_dist, \n",
    "                           cv=5, \n",
    "                           scoring='precision',\n",
    "                           n_jobs=-1)\n",
    "\n",
    "# start count time\n",
    "start_time = time.time()\n",
    "\n",
    "# fit it to the data\n",
    "gm_cv.fit(X_train,y_train)\n",
    "\n",
    "# print the tuned parameters and score\n",
    "print(\"Tuned Decision Tree Parameters: {}\".format(gm_cv.best_params_))\n",
    "print(\"Best score is {}\".format(gm_cv.best_score_))\n",
    "\n",
    "# calculate time\n",
    "elapsed_time = time.time() - start_time\n",
    "\n",
    "print(\"\\ntime: \", elapsed_time)"
   ]
  },
  {
   "cell_type": "code",
   "execution_count": 12,
   "metadata": {},
   "outputs": [
    {
     "data": {
      "text/plain": [
       "{'subsample': 1,\n",
       " 'n_estimators': 500,\n",
       " 'min_samples_leaf': 20,\n",
       " 'learning_rate': 0.1}"
      ]
     },
     "execution_count": 12,
     "metadata": {},
     "output_type": "execute_result"
    }
   ],
   "source": [
    "gm_cv.best_params_"
   ]
  },
  {
   "cell_type": "code",
   "execution_count": 13,
   "metadata": {},
   "outputs": [
    {
     "name": "stdout",
     "output_type": "stream",
     "text": [
      "[0.51515152 0.64285714 0.64285714 0.69047619 0.51612903 0.60606061\n",
      " 0.57692308 0.61290323 0.57575758 0.6969697 ]\n",
      "0.6076085205117463\n"
     ]
    }
   ],
   "source": [
    "# tuned GradientBoostingClassifier and cross validated\n",
    "gbmodel= GradientBoostingClassifier(n_estimators=gm_cv.best_params_[\"n_estimators\"],  \n",
    "                                    learning_rate= gm_cv.best_params_[\"learning_rate\"],\n",
    "                                    min_samples_leaf=gm_cv.best_params_[\"min_samples_leaf\"],\n",
    "                                    subsample=gm_cv.best_params_[\"subsample\"],\n",
    "                                    random_state=32)\n",
    "\n",
    "gbmodel_Precision = cross_val_score(gbmodel, \n",
    "                                    X_train,\n",
    "                                    y_train,\n",
    "                                    cv=10,\n",
    "                                    scoring='precision',\n",
    "                                    n_jobs=-1)\n",
    "\n",
    "print(gbmodel_Precision)\n",
    "print(gbmodel_Precision.mean())"
   ]
  },
  {
   "cell_type": "code",
   "execution_count": 14,
   "metadata": {},
   "outputs": [
    {
     "name": "stdout",
     "output_type": "stream",
     "text": [
      "              precision    recall  f1-score   support\n",
      "\n",
      "           0       0.99      1.00      0.99    293244\n",
      "           1       0.60      0.03      0.06      3111\n",
      "\n",
      "    accuracy                           0.99    296355\n",
      "   macro avg       0.79      0.52      0.53    296355\n",
      "weighted avg       0.99      0.99      0.98    296355\n",
      "\n",
      "\n",
      "time:  1.5389573574066162\n"
     ]
    }
   ],
   "source": [
    "# start count time\n",
    "start_time = time.time()\n",
    "\n",
    "# training with the best paras\n",
    "# gbmodel.fit(X_train,y_train)\n",
    "\n",
    "# test with 30% data\n",
    "y_test_pred= gm_cv.predict(X_test)\n",
    "print(classification_report(y_test,y_test_pred))\n",
    "\n",
    "# calculate time\n",
    "elapsed_time = time.time() - start_time\n",
    "\n",
    "print(\"\\ntime: \", elapsed_time)"
   ]
  },
  {
   "cell_type": "code",
   "execution_count": 15,
   "metadata": {},
   "outputs": [
    {
     "name": "stdout",
     "output_type": "stream",
     "text": [
      "              precision    recall  f1-score   support\n",
      "\n",
      "           0       0.99      1.00      0.99    293244\n",
      "           1       0.60      0.03      0.06      3111\n",
      "\n",
      "    accuracy                           0.99    296355\n",
      "   macro avg       0.79      0.52      0.53    296355\n",
      "weighted avg       0.99      0.99      0.98    296355\n",
      "\n",
      "\n",
      "time:  356.53962564468384\n"
     ]
    }
   ],
   "source": [
    "# start count time\n",
    "start_time = time.time()\n",
    "\n",
    "# training with the best paras\n",
    "gbmodel.fit(X_train,y_train)\n",
    "\n",
    "# test with 30% data\n",
    "y_test_pred= gbmodel.predict(X_test)\n",
    "print(classification_report(y_test,y_test_pred))\n",
    "\n",
    "# calculate time\n",
    "elapsed_time = time.time() - start_time\n",
    "\n",
    "print(\"\\ntime: \", elapsed_time)"
   ]
  },
  {
   "cell_type": "markdown",
   "metadata": {},
   "source": [
    "### 3. AdaBoostClassifier Tuning and Training"
   ]
  },
  {
   "cell_type": "code",
   "execution_count": 16,
   "metadata": {},
   "outputs": [
    {
     "name": "stdout",
     "output_type": "stream",
     "text": [
      "\n",
      "time:  3026.914971113205\n"
     ]
    }
   ],
   "source": [
    "abmodel= AdaBoostClassifier(base_estimator=rfmodel ,random_state = 32)\n",
    "\n",
    "# start count time\n",
    "start_time = time.time()\n",
    "\n",
    "abmodel.fit(X_train, y_train)\n",
    "\n",
    "# calculate time\n",
    "elapsed_time = time.time() - start_time\n",
    "\n",
    "print(\"\\ntime: \", elapsed_time)"
   ]
  },
  {
   "cell_type": "code",
   "execution_count": 17,
   "metadata": {},
   "outputs": [
    {
     "name": "stdout",
     "output_type": "stream",
     "text": [
      "              precision    recall  f1-score   support\n",
      "\n",
      "           0       0.99      1.00      1.00    293244\n",
      "           1       0.86      0.27      0.41      3111\n",
      "\n",
      "    accuracy                           0.99    296355\n",
      "   macro avg       0.93      0.64      0.70    296355\n",
      "weighted avg       0.99      0.99      0.99    296355\n",
      "\n"
     ]
    }
   ],
   "source": [
    "abmodel_prediction = abmodel.predict( X_test )\n",
    "abmodel_report = classification_report(y_test, abmodel_prediction )\n",
    "joblib.dump(abmodel, \"../model/abmodel86.sav\")\n",
    "print(abmodel_report)"
   ]
  },
  {
   "cell_type": "code",
   "execution_count": 18,
   "metadata": {},
   "outputs": [
    {
     "data": {
      "text/plain": [
       "Text(0.5, 1.0, 'Recall Precision Curve')"
      ]
     },
     "execution_count": 18,
     "metadata": {},
     "output_type": "execute_result"
    },
    {
     "data": {
      "image/png": "[encoded data removed]",
      "text/plain": [
       "<Figure size 648x648 with 1 Axes>"
      ]
     },
     "metadata": {
      "needs_background": "light"
     },
     "output_type": "display_data"
    }
   ],
   "source": [
    "# plot Recall-Precision Curves\n",
    "fig , ax1 = plt.subplots(figsize=(9,9) )\n",
    "estimators =[rfmodel, gbmodel, abmodel]\n",
    "classifiers=['RandomForestClassifier',\n",
    "             'GradientBoostingClassifier',\n",
    "             'AdaBoostClassifier']\n",
    "colors = ['b', 'g', 'r']\n",
    "\n",
    "for i, estimator in enumerate(estimators):\n",
    "    y_pred_prob = estimator.predict_proba(X_test)[:,1]\n",
    "    precision, recall, _ = precision_recall_curve(y_test,y_pred_prob)\n",
    "    average_precision= average_precision_score(y_test, y_pred_prob, average=\"micro\")\n",
    "    plt.plot(recall, precision, label='%s (average=%.3f)'%(classifiers[i],average_precision), color=colors[i])\n",
    "\n",
    "plt.xlabel('Recall')\n",
    "plt.ylabel('Precision')\n",
    "plt.legend(loc=1)\n",
    "plt.title('Recall Precision Curve')"
   ]
  },
  {
   "cell_type": "markdown",
   "metadata": {},
   "source": [
    "## Conclusion"
   ]
  },
  {
   "cell_type": "markdown",
   "metadata": {},
   "source": [
    "Based on the performance of all the predictive model that I found **Tuned RandomForestClassifier** is the most suitable predictive model to choose here.\n",
    "I think this model this is the best model because it has **precision score of 0.81.**\n"
   ]
  },
  {
   "cell_type": "code",
   "execution_count": 19,
   "metadata": {},
   "outputs": [
    {
     "data": {
      "text/plain": [
       "['../model/RF_Tree_cv89.sav']"
      ]
     },
     "execution_count": 19,
     "metadata": {},
     "output_type": "execute_result"
    }
   ],
   "source": [
    "joblib.dump(tree_cv, \"../model/RF_Tree_cv89.sav\")"
   ]
  },
  {
   "cell_type": "code",
   "execution_count": null,
   "metadata": {},
   "outputs": [],
   "source": []
  },
  {
   "cell_type": "code",
   "execution_count": null,
   "metadata": {},
   "outputs": [],
   "source": []
  }
 ],
 "metadata": {
  "kernelspec": {
   "display_name": "Python 3",
   "language": "python",
   "name": "python3"
  },
  "language_info": {
   "codemirror_mode": {
    "name": "ipython",
    "version": 3
   },
   "file_extension": ".py",
   "mimetype": "text/x-python",
   "name": "python",
   "nbconvert_exporter": "python",
   "pygments_lexer": "ipython3",
   "version": "3.7.3"
  }
 },
 "nbformat": 4,
 "nbformat_minor": 2
}
