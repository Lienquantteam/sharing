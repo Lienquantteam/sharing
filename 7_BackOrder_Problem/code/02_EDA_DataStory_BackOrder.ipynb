{
 "cells": [
  {
   "cell_type": "code",
   "execution_count": 1,
   "metadata": {},
   "outputs": [
    {
     "data": {
      "text/html": [
       "<style>.container { width:100% !important; }</style>"
      ],
      "text/plain": [
       "<IPython.core.display.HTML object>"
      ]
     },
     "metadata": {},
     "output_type": "display_data"
    }
   ],
   "source": [
    "from IPython.core.display import display, HTML\n",
    "display(HTML(\"<style>.container { width:100% !important; }</style>\"))"
   ]
  },
  {
   "cell_type": "code",
   "execution_count": 2,
   "metadata": {},
   "outputs": [
    {
     "name": "stderr",
     "output_type": "stream",
     "text": [
      "/root/anaconda3/lib/python3.7/site-packages/sklearn/externals/joblib/__init__.py:15: DeprecationWarning: sklearn.externals.joblib is deprecated in 0.21 and will be removed in 0.23. Please import this functionality directly from joblib, which can be installed with: pip install joblib. If this warning is raised when loading pickled models, you may need to re-serialize those models with scikit-learn 0.21+.\n",
      "  warnings.warn(msg, category=DeprecationWarning)\n"
     ]
    }
   ],
   "source": [
    "import pandas as pd\n",
    "import numpy as np\n",
    "import matplotlib.pylab as plt\n",
    "import seaborn as sns\n",
    "from scipy import stats as st\n",
    "from sklearn.externals import joblib\n",
    "%matplotlib inline"
   ]
  },
  {
   "cell_type": "code",
   "execution_count": 3,
   "metadata": {},
   "outputs": [
    {
     "data": {
      "text/html": [
       "<div>\n",
       "<style scoped>\n",
       "    .dataframe tbody tr th:only-of-type {\n",
       "        vertical-align: middle;\n",
       "    }\n",
       "\n",
       "    .dataframe tbody tr th {\n",
       "        vertical-align: top;\n",
       "    }\n",
       "\n",
       "    .dataframe thead th {\n",
       "        text-align: right;\n",
       "    }\n",
       "</style>\n",
       "<table border=\"1\" class=\"dataframe\">\n",
       "  <thead>\n",
       "    <tr style=\"text-align: right;\">\n",
       "      <th></th>\n",
       "      <th>Current_inventory</th>\n",
       "      <th>Transit_time</th>\n",
       "      <th>Forecast_sales_3_months</th>\n",
       "      <th>Forecast_sales_6_months</th>\n",
       "      <th>Forecast_sales_9_months</th>\n",
       "      <th>Sales_quantity_1_months</th>\n",
       "      <th>Sales_quantity_3_months</th>\n",
       "      <th>Sales_quantity_6_months</th>\n",
       "      <th>Sales_quantity_9_months</th>\n",
       "      <th>Minimum_recommended_stock</th>\n",
       "      <th>Source_issue_identifying</th>\n",
       "      <th>Source_performance_6_months</th>\n",
       "      <th>Source_performance_12_months</th>\n",
       "      <th>Flag_deck_risk</th>\n",
       "      <th>Flag_oe_constraint</th>\n",
       "      <th>Flag_ppap_risk</th>\n",
       "      <th>Flag_stop_auto_buy</th>\n",
       "      <th>Flag_rev_stop</th>\n",
       "      <th>Backordered</th>\n",
       "    </tr>\n",
       "  </thead>\n",
       "  <tbody>\n",
       "    <tr>\n",
       "      <th>0</th>\n",
       "      <td>0</td>\n",
       "      <td>8.0</td>\n",
       "      <td>0</td>\n",
       "      <td>0</td>\n",
       "      <td>0</td>\n",
       "      <td>0</td>\n",
       "      <td>0</td>\n",
       "      <td>0</td>\n",
       "      <td>0</td>\n",
       "      <td>0</td>\n",
       "      <td>No</td>\n",
       "      <td>0.88</td>\n",
       "      <td>0.87</td>\n",
       "      <td>No</td>\n",
       "      <td>No</td>\n",
       "      <td>No</td>\n",
       "      <td>Yes</td>\n",
       "      <td>No</td>\n",
       "      <td>No</td>\n",
       "    </tr>\n",
       "    <tr>\n",
       "      <th>1</th>\n",
       "      <td>2</td>\n",
       "      <td>9.0</td>\n",
       "      <td>0</td>\n",
       "      <td>0</td>\n",
       "      <td>0</td>\n",
       "      <td>0</td>\n",
       "      <td>0</td>\n",
       "      <td>0</td>\n",
       "      <td>0</td>\n",
       "      <td>0</td>\n",
       "      <td>No</td>\n",
       "      <td>0.99</td>\n",
       "      <td>0.99</td>\n",
       "      <td>No</td>\n",
       "      <td>No</td>\n",
       "      <td>No</td>\n",
       "      <td>Yes</td>\n",
       "      <td>No</td>\n",
       "      <td>No</td>\n",
       "    </tr>\n",
       "    <tr>\n",
       "      <th>2</th>\n",
       "      <td>2</td>\n",
       "      <td>8.0</td>\n",
       "      <td>0</td>\n",
       "      <td>0</td>\n",
       "      <td>0</td>\n",
       "      <td>0</td>\n",
       "      <td>0</td>\n",
       "      <td>0</td>\n",
       "      <td>0</td>\n",
       "      <td>0</td>\n",
       "      <td>No</td>\n",
       "      <td>0.88</td>\n",
       "      <td>0.87</td>\n",
       "      <td>Yes</td>\n",
       "      <td>No</td>\n",
       "      <td>No</td>\n",
       "      <td>Yes</td>\n",
       "      <td>No</td>\n",
       "      <td>No</td>\n",
       "    </tr>\n",
       "    <tr>\n",
       "      <th>3</th>\n",
       "      <td>7</td>\n",
       "      <td>8.0</td>\n",
       "      <td>0</td>\n",
       "      <td>0</td>\n",
       "      <td>0</td>\n",
       "      <td>0</td>\n",
       "      <td>0</td>\n",
       "      <td>0</td>\n",
       "      <td>0</td>\n",
       "      <td>1</td>\n",
       "      <td>No</td>\n",
       "      <td>0.10</td>\n",
       "      <td>0.13</td>\n",
       "      <td>No</td>\n",
       "      <td>No</td>\n",
       "      <td>No</td>\n",
       "      <td>Yes</td>\n",
       "      <td>No</td>\n",
       "      <td>No</td>\n",
       "    </tr>\n",
       "    <tr>\n",
       "      <th>4</th>\n",
       "      <td>8</td>\n",
       "      <td>8.0</td>\n",
       "      <td>0</td>\n",
       "      <td>0</td>\n",
       "      <td>0</td>\n",
       "      <td>0</td>\n",
       "      <td>0</td>\n",
       "      <td>0</td>\n",
       "      <td>4</td>\n",
       "      <td>2</td>\n",
       "      <td>No</td>\n",
       "      <td>0.88</td>\n",
       "      <td>0.87</td>\n",
       "      <td>Yes</td>\n",
       "      <td>No</td>\n",
       "      <td>No</td>\n",
       "      <td>Yes</td>\n",
       "      <td>No</td>\n",
       "      <td>No</td>\n",
       "    </tr>\n",
       "  </tbody>\n",
       "</table>\n",
       "</div>"
      ],
      "text/plain": [
       "   Current_inventory  Transit_time  Forecast_sales_3_months  \\\n",
       "0                  0           8.0                        0   \n",
       "1                  2           9.0                        0   \n",
       "2                  2           8.0                        0   \n",
       "3                  7           8.0                        0   \n",
       "4                  8           8.0                        0   \n",
       "\n",
       "   Forecast_sales_6_months  Forecast_sales_9_months  Sales_quantity_1_months  \\\n",
       "0                        0                        0                        0   \n",
       "1                        0                        0                        0   \n",
       "2                        0                        0                        0   \n",
       "3                        0                        0                        0   \n",
       "4                        0                        0                        0   \n",
       "\n",
       "   Sales_quantity_3_months  Sales_quantity_6_months  Sales_quantity_9_months  \\\n",
       "0                        0                        0                        0   \n",
       "1                        0                        0                        0   \n",
       "2                        0                        0                        0   \n",
       "3                        0                        0                        0   \n",
       "4                        0                        0                        4   \n",
       "\n",
       "   Minimum_recommended_stock Source_issue_identifying  \\\n",
       "0                          0                       No   \n",
       "1                          0                       No   \n",
       "2                          0                       No   \n",
       "3                          1                       No   \n",
       "4                          2                       No   \n",
       "\n",
       "   Source_performance_6_months  Source_performance_12_months Flag_deck_risk  \\\n",
       "0                         0.88                          0.87             No   \n",
       "1                         0.99                          0.99             No   \n",
       "2                         0.88                          0.87            Yes   \n",
       "3                         0.10                          0.13             No   \n",
       "4                         0.88                          0.87            Yes   \n",
       "\n",
       "  Flag_oe_constraint Flag_ppap_risk Flag_stop_auto_buy Flag_rev_stop  \\\n",
       "0                 No             No                Yes            No   \n",
       "1                 No             No                Yes            No   \n",
       "2                 No             No                Yes            No   \n",
       "3                 No             No                Yes            No   \n",
       "4                 No             No                Yes            No   \n",
       "\n",
       "  Backordered  \n",
       "0          No  \n",
       "1          No  \n",
       "2          No  \n",
       "3          No  \n",
       "4          No  "
      ]
     },
     "execution_count": 3,
     "metadata": {},
     "output_type": "execute_result"
    }
   ],
   "source": [
    "data = pd.read_csv('../dataset/01_training_set_cleaned.csv')\n",
    "data.head()"
   ]
  },
  {
   "cell_type": "code",
   "execution_count": 4,
   "metadata": {},
   "outputs": [
    {
     "name": "stdout",
     "output_type": "stream",
     "text": [
      "<class 'pandas.core.frame.DataFrame'>\n",
      "RangeIndex: 987847 entries, 0 to 987846\n",
      "Data columns (total 19 columns):\n",
      "Current_inventory               987847 non-null int64\n",
      "Transit_time                    987847 non-null float64\n",
      "Forecast_sales_3_months         987847 non-null int64\n",
      "Forecast_sales_6_months         987847 non-null int64\n",
      "Forecast_sales_9_months         987847 non-null int64\n",
      "Sales_quantity_1_months         987847 non-null int64\n",
      "Sales_quantity_3_months         987847 non-null int64\n",
      "Sales_quantity_6_months         987847 non-null int64\n",
      "Sales_quantity_9_months         987847 non-null int64\n",
      "Minimum_recommended_stock       987847 non-null int64\n",
      "Source_issue_identifying        987847 non-null object\n",
      "Source_performance_6_months     987847 non-null float64\n",
      "Source_performance_12_months    987847 non-null float64\n",
      "Flag_deck_risk                  987847 non-null object\n",
      "Flag_oe_constraint              987847 non-null object\n",
      "Flag_ppap_risk                  987847 non-null object\n",
      "Flag_stop_auto_buy              987847 non-null object\n",
      "Flag_rev_stop                   987847 non-null object\n",
      "Backordered                     987847 non-null object\n",
      "dtypes: float64(3), int64(9), object(7)\n",
      "memory usage: 143.2+ MB\n"
     ]
    }
   ],
   "source": [
    "data.info()"
   ]
  },
  {
   "cell_type": "code",
   "execution_count": 5,
   "metadata": {},
   "outputs": [
    {
     "data": {
      "text/plain": [
       "(987847, 19)"
      ]
     },
     "execution_count": 5,
     "metadata": {},
     "output_type": "execute_result"
    }
   ],
   "source": [
    "data.shape"
   ]
  },
  {
   "cell_type": "code",
   "execution_count": 6,
   "metadata": {
    "scrolled": true
   },
   "outputs": [
    {
     "data": {
      "text/html": [
       "<div>\n",
       "<style scoped>\n",
       "    .dataframe tbody tr th:only-of-type {\n",
       "        vertical-align: middle;\n",
       "    }\n",
       "\n",
       "    .dataframe tbody tr th {\n",
       "        vertical-align: top;\n",
       "    }\n",
       "\n",
       "    .dataframe thead th {\n",
       "        text-align: right;\n",
       "    }\n",
       "</style>\n",
       "<table border=\"1\" class=\"dataframe\">\n",
       "  <thead>\n",
       "    <tr style=\"text-align: right;\">\n",
       "      <th></th>\n",
       "      <th>Current_inventory</th>\n",
       "      <th>Transit_time</th>\n",
       "      <th>Forecast_sales_3_months</th>\n",
       "      <th>Forecast_sales_6_months</th>\n",
       "      <th>Forecast_sales_9_months</th>\n",
       "      <th>Sales_quantity_1_months</th>\n",
       "      <th>Sales_quantity_3_months</th>\n",
       "      <th>Sales_quantity_6_months</th>\n",
       "      <th>Sales_quantity_9_months</th>\n",
       "      <th>Minimum_recommended_stock</th>\n",
       "      <th>Source_issue_identifying</th>\n",
       "      <th>Source_performance_6_months</th>\n",
       "      <th>Source_performance_12_months</th>\n",
       "      <th>Flag_deck_risk</th>\n",
       "      <th>Flag_oe_constraint</th>\n",
       "      <th>Flag_ppap_risk</th>\n",
       "      <th>Flag_stop_auto_buy</th>\n",
       "      <th>Flag_rev_stop</th>\n",
       "      <th>Backordered</th>\n",
       "    </tr>\n",
       "  </thead>\n",
       "  <tbody>\n",
       "    <tr>\n",
       "      <th>0</th>\n",
       "      <td>0</td>\n",
       "      <td>8.0</td>\n",
       "      <td>0</td>\n",
       "      <td>0</td>\n",
       "      <td>0</td>\n",
       "      <td>0</td>\n",
       "      <td>0</td>\n",
       "      <td>0</td>\n",
       "      <td>0</td>\n",
       "      <td>0</td>\n",
       "      <td>No</td>\n",
       "      <td>0.88</td>\n",
       "      <td>0.87</td>\n",
       "      <td>No</td>\n",
       "      <td>No</td>\n",
       "      <td>No</td>\n",
       "      <td>Yes</td>\n",
       "      <td>No</td>\n",
       "      <td>No</td>\n",
       "    </tr>\n",
       "    <tr>\n",
       "      <th>1</th>\n",
       "      <td>2</td>\n",
       "      <td>9.0</td>\n",
       "      <td>0</td>\n",
       "      <td>0</td>\n",
       "      <td>0</td>\n",
       "      <td>0</td>\n",
       "      <td>0</td>\n",
       "      <td>0</td>\n",
       "      <td>0</td>\n",
       "      <td>0</td>\n",
       "      <td>No</td>\n",
       "      <td>0.99</td>\n",
       "      <td>0.99</td>\n",
       "      <td>No</td>\n",
       "      <td>No</td>\n",
       "      <td>No</td>\n",
       "      <td>Yes</td>\n",
       "      <td>No</td>\n",
       "      <td>No</td>\n",
       "    </tr>\n",
       "    <tr>\n",
       "      <th>2</th>\n",
       "      <td>2</td>\n",
       "      <td>8.0</td>\n",
       "      <td>0</td>\n",
       "      <td>0</td>\n",
       "      <td>0</td>\n",
       "      <td>0</td>\n",
       "      <td>0</td>\n",
       "      <td>0</td>\n",
       "      <td>0</td>\n",
       "      <td>0</td>\n",
       "      <td>No</td>\n",
       "      <td>0.88</td>\n",
       "      <td>0.87</td>\n",
       "      <td>Yes</td>\n",
       "      <td>No</td>\n",
       "      <td>No</td>\n",
       "      <td>Yes</td>\n",
       "      <td>No</td>\n",
       "      <td>No</td>\n",
       "    </tr>\n",
       "    <tr>\n",
       "      <th>3</th>\n",
       "      <td>7</td>\n",
       "      <td>8.0</td>\n",
       "      <td>0</td>\n",
       "      <td>0</td>\n",
       "      <td>0</td>\n",
       "      <td>0</td>\n",
       "      <td>0</td>\n",
       "      <td>0</td>\n",
       "      <td>0</td>\n",
       "      <td>1</td>\n",
       "      <td>No</td>\n",
       "      <td>0.10</td>\n",
       "      <td>0.13</td>\n",
       "      <td>No</td>\n",
       "      <td>No</td>\n",
       "      <td>No</td>\n",
       "      <td>Yes</td>\n",
       "      <td>No</td>\n",
       "      <td>No</td>\n",
       "    </tr>\n",
       "    <tr>\n",
       "      <th>4</th>\n",
       "      <td>8</td>\n",
       "      <td>8.0</td>\n",
       "      <td>0</td>\n",
       "      <td>0</td>\n",
       "      <td>0</td>\n",
       "      <td>0</td>\n",
       "      <td>0</td>\n",
       "      <td>0</td>\n",
       "      <td>4</td>\n",
       "      <td>2</td>\n",
       "      <td>No</td>\n",
       "      <td>0.88</td>\n",
       "      <td>0.87</td>\n",
       "      <td>Yes</td>\n",
       "      <td>No</td>\n",
       "      <td>No</td>\n",
       "      <td>Yes</td>\n",
       "      <td>No</td>\n",
       "      <td>No</td>\n",
       "    </tr>\n",
       "    <tr>\n",
       "      <th>5</th>\n",
       "      <td>13</td>\n",
       "      <td>8.0</td>\n",
       "      <td>0</td>\n",
       "      <td>0</td>\n",
       "      <td>0</td>\n",
       "      <td>0</td>\n",
       "      <td>0</td>\n",
       "      <td>0</td>\n",
       "      <td>0</td>\n",
       "      <td>0</td>\n",
       "      <td>No</td>\n",
       "      <td>0.82</td>\n",
       "      <td>0.87</td>\n",
       "      <td>No</td>\n",
       "      <td>No</td>\n",
       "      <td>No</td>\n",
       "      <td>Yes</td>\n",
       "      <td>No</td>\n",
       "      <td>No</td>\n",
       "    </tr>\n",
       "    <tr>\n",
       "      <th>6</th>\n",
       "      <td>1095</td>\n",
       "      <td>8.0</td>\n",
       "      <td>0</td>\n",
       "      <td>0</td>\n",
       "      <td>0</td>\n",
       "      <td>0</td>\n",
       "      <td>0</td>\n",
       "      <td>0</td>\n",
       "      <td>0</td>\n",
       "      <td>4</td>\n",
       "      <td>No</td>\n",
       "      <td>0.88</td>\n",
       "      <td>0.87</td>\n",
       "      <td>Yes</td>\n",
       "      <td>No</td>\n",
       "      <td>No</td>\n",
       "      <td>Yes</td>\n",
       "      <td>No</td>\n",
       "      <td>No</td>\n",
       "    </tr>\n",
       "    <tr>\n",
       "      <th>7</th>\n",
       "      <td>6</td>\n",
       "      <td>2.0</td>\n",
       "      <td>0</td>\n",
       "      <td>0</td>\n",
       "      <td>0</td>\n",
       "      <td>0</td>\n",
       "      <td>0</td>\n",
       "      <td>0</td>\n",
       "      <td>0</td>\n",
       "      <td>0</td>\n",
       "      <td>No</td>\n",
       "      <td>0.00</td>\n",
       "      <td>0.00</td>\n",
       "      <td>Yes</td>\n",
       "      <td>No</td>\n",
       "      <td>Yes</td>\n",
       "      <td>Yes</td>\n",
       "      <td>No</td>\n",
       "      <td>No</td>\n",
       "    </tr>\n",
       "    <tr>\n",
       "      <th>8</th>\n",
       "      <td>140</td>\n",
       "      <td>8.0</td>\n",
       "      <td>15</td>\n",
       "      <td>114</td>\n",
       "      <td>152</td>\n",
       "      <td>0</td>\n",
       "      <td>0</td>\n",
       "      <td>0</td>\n",
       "      <td>0</td>\n",
       "      <td>0</td>\n",
       "      <td>No</td>\n",
       "      <td>0.88</td>\n",
       "      <td>0.87</td>\n",
       "      <td>No</td>\n",
       "      <td>No</td>\n",
       "      <td>No</td>\n",
       "      <td>Yes</td>\n",
       "      <td>No</td>\n",
       "      <td>No</td>\n",
       "    </tr>\n",
       "    <tr>\n",
       "      <th>9</th>\n",
       "      <td>4</td>\n",
       "      <td>8.0</td>\n",
       "      <td>0</td>\n",
       "      <td>0</td>\n",
       "      <td>0</td>\n",
       "      <td>0</td>\n",
       "      <td>0</td>\n",
       "      <td>0</td>\n",
       "      <td>0</td>\n",
       "      <td>0</td>\n",
       "      <td>No</td>\n",
       "      <td>0.82</td>\n",
       "      <td>0.87</td>\n",
       "      <td>No</td>\n",
       "      <td>No</td>\n",
       "      <td>No</td>\n",
       "      <td>Yes</td>\n",
       "      <td>No</td>\n",
       "      <td>No</td>\n",
       "    </tr>\n",
       "  </tbody>\n",
       "</table>\n",
       "</div>"
      ],
      "text/plain": [
       "   Current_inventory  Transit_time  Forecast_sales_3_months  \\\n",
       "0                  0           8.0                        0   \n",
       "1                  2           9.0                        0   \n",
       "2                  2           8.0                        0   \n",
       "3                  7           8.0                        0   \n",
       "4                  8           8.0                        0   \n",
       "5                 13           8.0                        0   \n",
       "6               1095           8.0                        0   \n",
       "7                  6           2.0                        0   \n",
       "8                140           8.0                       15   \n",
       "9                  4           8.0                        0   \n",
       "\n",
       "   Forecast_sales_6_months  Forecast_sales_9_months  Sales_quantity_1_months  \\\n",
       "0                        0                        0                        0   \n",
       "1                        0                        0                        0   \n",
       "2                        0                        0                        0   \n",
       "3                        0                        0                        0   \n",
       "4                        0                        0                        0   \n",
       "5                        0                        0                        0   \n",
       "6                        0                        0                        0   \n",
       "7                        0                        0                        0   \n",
       "8                      114                      152                        0   \n",
       "9                        0                        0                        0   \n",
       "\n",
       "   Sales_quantity_3_months  Sales_quantity_6_months  Sales_quantity_9_months  \\\n",
       "0                        0                        0                        0   \n",
       "1                        0                        0                        0   \n",
       "2                        0                        0                        0   \n",
       "3                        0                        0                        0   \n",
       "4                        0                        0                        4   \n",
       "5                        0                        0                        0   \n",
       "6                        0                        0                        0   \n",
       "7                        0                        0                        0   \n",
       "8                        0                        0                        0   \n",
       "9                        0                        0                        0   \n",
       "\n",
       "   Minimum_recommended_stock Source_issue_identifying  \\\n",
       "0                          0                       No   \n",
       "1                          0                       No   \n",
       "2                          0                       No   \n",
       "3                          1                       No   \n",
       "4                          2                       No   \n",
       "5                          0                       No   \n",
       "6                          4                       No   \n",
       "7                          0                       No   \n",
       "8                          0                       No   \n",
       "9                          0                       No   \n",
       "\n",
       "   Source_performance_6_months  Source_performance_12_months Flag_deck_risk  \\\n",
       "0                         0.88                          0.87             No   \n",
       "1                         0.99                          0.99             No   \n",
       "2                         0.88                          0.87            Yes   \n",
       "3                         0.10                          0.13             No   \n",
       "4                         0.88                          0.87            Yes   \n",
       "5                         0.82                          0.87             No   \n",
       "6                         0.88                          0.87            Yes   \n",
       "7                         0.00                          0.00            Yes   \n",
       "8                         0.88                          0.87             No   \n",
       "9                         0.82                          0.87             No   \n",
       "\n",
       "  Flag_oe_constraint Flag_ppap_risk Flag_stop_auto_buy Flag_rev_stop  \\\n",
       "0                 No             No                Yes            No   \n",
       "1                 No             No                Yes            No   \n",
       "2                 No             No                Yes            No   \n",
       "3                 No             No                Yes            No   \n",
       "4                 No             No                Yes            No   \n",
       "5                 No             No                Yes            No   \n",
       "6                 No             No                Yes            No   \n",
       "7                 No            Yes                Yes            No   \n",
       "8                 No             No                Yes            No   \n",
       "9                 No             No                Yes            No   \n",
       "\n",
       "  Backordered  \n",
       "0          No  \n",
       "1          No  \n",
       "2          No  \n",
       "3          No  \n",
       "4          No  \n",
       "5          No  \n",
       "6          No  \n",
       "7          No  \n",
       "8          No  \n",
       "9          No  "
      ]
     },
     "execution_count": 6,
     "metadata": {},
     "output_type": "execute_result"
    }
   ],
   "source": [
    "data.head(10)"
   ]
  },
  {
   "cell_type": "code",
   "execution_count": null,
   "metadata": {},
   "outputs": [],
   "source": []
  },
  {
   "cell_type": "code",
   "execution_count": null,
   "metadata": {},
   "outputs": [],
   "source": []
  },
  {
   "cell_type": "code",
   "execution_count": 7,
   "metadata": {},
   "outputs": [
    {
     "data": {
      "text/html": [
       "<div>\n",
       "<style scoped>\n",
       "    .dataframe tbody tr th:only-of-type {\n",
       "        vertical-align: middle;\n",
       "    }\n",
       "\n",
       "    .dataframe tbody tr th {\n",
       "        vertical-align: top;\n",
       "    }\n",
       "\n",
       "    .dataframe thead th {\n",
       "        text-align: right;\n",
       "    }\n",
       "</style>\n",
       "<table border=\"1\" class=\"dataframe\">\n",
       "  <thead>\n",
       "    <tr style=\"text-align: right;\">\n",
       "      <th></th>\n",
       "      <th>Source_performance_6_months</th>\n",
       "      <th>Source_performance_12_months</th>\n",
       "    </tr>\n",
       "  </thead>\n",
       "  <tbody>\n",
       "    <tr>\n",
       "      <th>Source_performance_6_months</th>\n",
       "      <td>1.000000</td>\n",
       "      <td>0.936737</td>\n",
       "    </tr>\n",
       "    <tr>\n",
       "      <th>Source_performance_12_months</th>\n",
       "      <td>0.936737</td>\n",
       "      <td>1.000000</td>\n",
       "    </tr>\n",
       "  </tbody>\n",
       "</table>\n",
       "</div>"
      ],
      "text/plain": [
       "                              Source_performance_6_months  \\\n",
       "Source_performance_6_months                      1.000000   \n",
       "Source_performance_12_months                     0.936737   \n",
       "\n",
       "                              Source_performance_12_months  \n",
       "Source_performance_6_months                       0.936737  \n",
       "Source_performance_12_months                      1.000000  "
      ]
     },
     "execution_count": 7,
     "metadata": {},
     "output_type": "execute_result"
    }
   ],
   "source": [
    "sourceperf_corr_data = data[['Source_performance_6_months','Source_performance_12_months']]\n",
    "sourceperf_corr = sourceperf_corr_data.corr()\n",
    "sourceperf_corr"
   ]
  },
  {
   "cell_type": "code",
   "execution_count": 8,
   "metadata": {},
   "outputs": [
    {
     "data": {
      "image/png": "[encoded data removed]",
      "text/plain": [
       "<Figure size 432x288 with 2 Axes>"
      ]
     },
     "metadata": {
      "needs_background": "light"
     },
     "output_type": "display_data"
    }
   ],
   "source": [
    "_ = sns.heatmap(sourceperf_corr, annot=True)"
   ]
  },
  {
   "cell_type": "code",
   "execution_count": 9,
   "metadata": {
    "scrolled": false
   },
   "outputs": [
    {
     "data": {
      "image/png": "[encoded data removed]",
      "text/plain": [
       "<Figure size 432x432 with 3 Axes>"
      ]
     },
     "metadata": {
      "needs_background": "light"
     },
     "output_type": "display_data"
    }
   ],
   "source": [
    "_=sns.jointplot('Source_performance_6_months',\n",
    "                'Source_performance_12_months',\n",
    "                data=data,\n",
    "                kind='reg')"
   ]
  },
  {
   "cell_type": "markdown",
   "metadata": {},
   "source": [
    "We can see that, as expected, performace over 6 and 12 month periods are highly correlated too."
   ]
  },
  {
   "cell_type": "code",
   "execution_count": 10,
   "metadata": {},
   "outputs": [
    {
     "data": {
      "text/html": [
       "<div>\n",
       "<style scoped>\n",
       "    .dataframe tbody tr th:only-of-type {\n",
       "        vertical-align: middle;\n",
       "    }\n",
       "\n",
       "    .dataframe tbody tr th {\n",
       "        vertical-align: top;\n",
       "    }\n",
       "\n",
       "    .dataframe thead th {\n",
       "        text-align: right;\n",
       "    }\n",
       "</style>\n",
       "<table border=\"1\" class=\"dataframe\">\n",
       "  <thead>\n",
       "    <tr style=\"text-align: right;\">\n",
       "      <th></th>\n",
       "      <th>Sales_quantity_1_months</th>\n",
       "      <th>Sales_quantity_3_months</th>\n",
       "      <th>Sales_quantity_6_months</th>\n",
       "      <th>Sales_quantity_9_months</th>\n",
       "    </tr>\n",
       "  </thead>\n",
       "  <tbody>\n",
       "    <tr>\n",
       "      <th>Sales_quantity_1_months</th>\n",
       "      <td>1.000000</td>\n",
       "      <td>0.908402</td>\n",
       "      <td>0.870892</td>\n",
       "      <td>0.832163</td>\n",
       "    </tr>\n",
       "    <tr>\n",
       "      <th>Sales_quantity_3_months</th>\n",
       "      <td>0.908402</td>\n",
       "      <td>1.000000</td>\n",
       "      <td>0.988814</td>\n",
       "      <td>0.955198</td>\n",
       "    </tr>\n",
       "    <tr>\n",
       "      <th>Sales_quantity_6_months</th>\n",
       "      <td>0.870892</td>\n",
       "      <td>0.988814</td>\n",
       "      <td>1.000000</td>\n",
       "      <td>0.973348</td>\n",
       "    </tr>\n",
       "    <tr>\n",
       "      <th>Sales_quantity_9_months</th>\n",
       "      <td>0.832163</td>\n",
       "      <td>0.955198</td>\n",
       "      <td>0.973348</td>\n",
       "      <td>1.000000</td>\n",
       "    </tr>\n",
       "  </tbody>\n",
       "</table>\n",
       "</div>"
      ],
      "text/plain": [
       "                         Sales_quantity_1_months  Sales_quantity_3_months  \\\n",
       "Sales_quantity_1_months                 1.000000                 0.908402   \n",
       "Sales_quantity_3_months                 0.908402                 1.000000   \n",
       "Sales_quantity_6_months                 0.870892                 0.988814   \n",
       "Sales_quantity_9_months                 0.832163                 0.955198   \n",
       "\n",
       "                         Sales_quantity_6_months  Sales_quantity_9_months  \n",
       "Sales_quantity_1_months                 0.870892                 0.832163  \n",
       "Sales_quantity_3_months                 0.988814                 0.955198  \n",
       "Sales_quantity_6_months                 1.000000                 0.973348  \n",
       "Sales_quantity_9_months                 0.973348                 1.000000  "
      ]
     },
     "execution_count": 10,
     "metadata": {},
     "output_type": "execute_result"
    }
   ],
   "source": [
    "sales_corr_data = data[['Sales_quantity_1_months',\n",
    "                        'Sales_quantity_3_months',\n",
    "                        'Sales_quantity_6_months',\n",
    "                        'Sales_quantity_9_months']]\n",
    "sales_corr = sales_corr_data.corr()\n",
    "sales_corr"
   ]
  },
  {
   "cell_type": "code",
   "execution_count": 11,
   "metadata": {},
   "outputs": [
    {
     "data": {
      "image/png": "[encoded data removed]",
      "text/plain": [
       "<Figure size 432x288 with 2 Axes>"
      ]
     },
     "metadata": {
      "needs_background": "light"
     },
     "output_type": "display_data"
    }
   ],
   "source": [
    "_=sns.heatmap(sales_corr, annot=True)"
   ]
  },
  {
   "cell_type": "markdown",
   "metadata": {},
   "source": [
    "Similarly, these prior sales over the periods of 3, 6 and 9 months are highly correlated."
   ]
  },
  {
   "cell_type": "code",
   "execution_count": 12,
   "metadata": {},
   "outputs": [
    {
     "data": {
      "image/png": "[encoded data removed]",
      "text/plain": [
       "<Figure size 432x432 with 3 Axes>"
      ]
     },
     "metadata": {
      "needs_background": "light"
     },
     "output_type": "display_data"
    }
   ],
   "source": [
    "_=sns.jointplot('Sales_quantity_1_months',\n",
    "                'Sales_quantity_9_months',\n",
    "                data=data,\n",
    "                kind='reg')"
   ]
  },
  {
   "cell_type": "code",
   "execution_count": 13,
   "metadata": {},
   "outputs": [
    {
     "data": {
      "image/png": "[encoded data removed]",
      "text/plain": [
       "<Figure size 432x288 with 1 Axes>"
      ]
     },
     "metadata": {
      "needs_background": "light"
     },
     "output_type": "display_data"
    }
   ],
   "source": [
    "_ = plt.hist(data.Transit_time)"
   ]
  },
  {
   "cell_type": "code",
   "execution_count": 14,
   "metadata": {},
   "outputs": [
    {
     "data": {
      "image/png": "[encoded data removed]",
      "text/plain": [
       "<Figure size 432x288 with 1 Axes>"
      ]
     },
     "metadata": {
      "needs_background": "light"
     },
     "output_type": "display_data"
    }
   ],
   "source": [
    "sns.stripplot(x='Backordered',\n",
    "              y='Transit_time', \n",
    "              data=data,\n",
    "              jitter=True);"
   ]
  },
  {
   "cell_type": "code",
   "execution_count": 15,
   "metadata": {},
   "outputs": [
    {
     "data": {
      "text/plain": [
       "Text(0, 0.5, 'Current Inventory (unit)')"
      ]
     },
     "execution_count": 15,
     "metadata": {},
     "output_type": "execute_result"
    },
    {
     "data": {
      "image/png": "[encoded data removed]",
      "text/plain": [
       "<Figure size 432x288 with 1 Axes>"
      ]
     },
     "metadata": {
      "needs_background": "light"
     },
     "output_type": "display_data"
    }
   ],
   "source": [
    "plt.plot(data.Sales_quantity_9_months, data.Current_inventory, marker='.', linestyle='None')\n",
    "plt.xlabel('Prior Sale 9 Months (unit)')\n",
    "plt.ylabel('Current Inventory (unit)')"
   ]
  },
  {
   "cell_type": "markdown",
   "metadata": {},
   "source": [
    "It would be interesting to find out why the current inventory for some products is as high as 1.4 Million even when there is no sale in prior 9 months. This could even be a question to client. It could be a bad data as well."
   ]
  },
  {
   "cell_type": "code",
   "execution_count": 16,
   "metadata": {},
   "outputs": [
    {
     "data": {
      "text/plain": [
       "Text(0, 0.5, 'Minimum Recommended Stock (unit)')"
      ]
     },
     "execution_count": 16,
     "metadata": {},
     "output_type": "execute_result"
    },
    {
     "data": {
      "image/png": "[encoded data removed]",
      "text/plain": [
       "<Figure size 432x288 with 1 Axes>"
      ]
     },
     "metadata": {
      "needs_background": "light"
     },
     "output_type": "display_data"
    }
   ],
   "source": [
    "plt.plot(data.Sales_quantity_9_months, data.Minimum_recommended_stock, marker='.', linestyle='None')\n",
    "plt.xlabel('Prior Sale 9 Months (unit)')\n",
    "plt.ylabel('Minimum Recommended Stock (unit)')"
   ]
  },
  {
   "cell_type": "code",
   "execution_count": null,
   "metadata": {},
   "outputs": [],
   "source": []
  },
  {
   "cell_type": "markdown",
   "metadata": {},
   "source": [
    "## Relations with Backordered"
   ]
  },
  {
   "cell_type": "code",
   "execution_count": 17,
   "metadata": {},
   "outputs": [],
   "source": [
    "dat = data.copy()"
   ]
  },
  {
   "cell_type": "code",
   "execution_count": 18,
   "metadata": {
    "scrolled": true
   },
   "outputs": [],
   "source": [
    "dat = dat.replace(\"Yes\", 1)\n",
    "dat = dat.replace(\"No\", 0)"
   ]
  },
  {
   "cell_type": "code",
   "execution_count": 19,
   "metadata": {
    "scrolled": true
   },
   "outputs": [
    {
     "data": {
      "text/html": [
       "<div>\n",
       "<style scoped>\n",
       "    .dataframe tbody tr th:only-of-type {\n",
       "        vertical-align: middle;\n",
       "    }\n",
       "\n",
       "    .dataframe tbody tr th {\n",
       "        vertical-align: top;\n",
       "    }\n",
       "\n",
       "    .dataframe thead th {\n",
       "        text-align: right;\n",
       "    }\n",
       "</style>\n",
       "<table border=\"1\" class=\"dataframe\">\n",
       "  <thead>\n",
       "    <tr style=\"text-align: right;\">\n",
       "      <th></th>\n",
       "      <th>Current_inventory</th>\n",
       "      <th>Transit_time</th>\n",
       "      <th>Forecast_sales_3_months</th>\n",
       "      <th>Forecast_sales_6_months</th>\n",
       "      <th>Forecast_sales_9_months</th>\n",
       "      <th>Sales_quantity_1_months</th>\n",
       "      <th>Sales_quantity_3_months</th>\n",
       "      <th>Sales_quantity_6_months</th>\n",
       "      <th>Sales_quantity_9_months</th>\n",
       "      <th>Minimum_recommended_stock</th>\n",
       "      <th>Source_issue_identifying</th>\n",
       "      <th>Source_performance_6_months</th>\n",
       "      <th>Source_performance_12_months</th>\n",
       "      <th>Flag_deck_risk</th>\n",
       "      <th>Flag_oe_constraint</th>\n",
       "      <th>Flag_ppap_risk</th>\n",
       "      <th>Flag_stop_auto_buy</th>\n",
       "      <th>Flag_rev_stop</th>\n",
       "      <th>Backordered</th>\n",
       "    </tr>\n",
       "  </thead>\n",
       "  <tbody>\n",
       "    <tr>\n",
       "      <th>0</th>\n",
       "      <td>0</td>\n",
       "      <td>8.0</td>\n",
       "      <td>0</td>\n",
       "      <td>0</td>\n",
       "      <td>0</td>\n",
       "      <td>0</td>\n",
       "      <td>0</td>\n",
       "      <td>0</td>\n",
       "      <td>0</td>\n",
       "      <td>0</td>\n",
       "      <td>0</td>\n",
       "      <td>0.88</td>\n",
       "      <td>0.87</td>\n",
       "      <td>0</td>\n",
       "      <td>0</td>\n",
       "      <td>0</td>\n",
       "      <td>1</td>\n",
       "      <td>0</td>\n",
       "      <td>0</td>\n",
       "    </tr>\n",
       "    <tr>\n",
       "      <th>1</th>\n",
       "      <td>2</td>\n",
       "      <td>9.0</td>\n",
       "      <td>0</td>\n",
       "      <td>0</td>\n",
       "      <td>0</td>\n",
       "      <td>0</td>\n",
       "      <td>0</td>\n",
       "      <td>0</td>\n",
       "      <td>0</td>\n",
       "      <td>0</td>\n",
       "      <td>0</td>\n",
       "      <td>0.99</td>\n",
       "      <td>0.99</td>\n",
       "      <td>0</td>\n",
       "      <td>0</td>\n",
       "      <td>0</td>\n",
       "      <td>1</td>\n",
       "      <td>0</td>\n",
       "      <td>0</td>\n",
       "    </tr>\n",
       "    <tr>\n",
       "      <th>2</th>\n",
       "      <td>2</td>\n",
       "      <td>8.0</td>\n",
       "      <td>0</td>\n",
       "      <td>0</td>\n",
       "      <td>0</td>\n",
       "      <td>0</td>\n",
       "      <td>0</td>\n",
       "      <td>0</td>\n",
       "      <td>0</td>\n",
       "      <td>0</td>\n",
       "      <td>0</td>\n",
       "      <td>0.88</td>\n",
       "      <td>0.87</td>\n",
       "      <td>1</td>\n",
       "      <td>0</td>\n",
       "      <td>0</td>\n",
       "      <td>1</td>\n",
       "      <td>0</td>\n",
       "      <td>0</td>\n",
       "    </tr>\n",
       "    <tr>\n",
       "      <th>3</th>\n",
       "      <td>7</td>\n",
       "      <td>8.0</td>\n",
       "      <td>0</td>\n",
       "      <td>0</td>\n",
       "      <td>0</td>\n",
       "      <td>0</td>\n",
       "      <td>0</td>\n",
       "      <td>0</td>\n",
       "      <td>0</td>\n",
       "      <td>1</td>\n",
       "      <td>0</td>\n",
       "      <td>0.10</td>\n",
       "      <td>0.13</td>\n",
       "      <td>0</td>\n",
       "      <td>0</td>\n",
       "      <td>0</td>\n",
       "      <td>1</td>\n",
       "      <td>0</td>\n",
       "      <td>0</td>\n",
       "    </tr>\n",
       "    <tr>\n",
       "      <th>4</th>\n",
       "      <td>8</td>\n",
       "      <td>8.0</td>\n",
       "      <td>0</td>\n",
       "      <td>0</td>\n",
       "      <td>0</td>\n",
       "      <td>0</td>\n",
       "      <td>0</td>\n",
       "      <td>0</td>\n",
       "      <td>4</td>\n",
       "      <td>2</td>\n",
       "      <td>0</td>\n",
       "      <td>0.88</td>\n",
       "      <td>0.87</td>\n",
       "      <td>1</td>\n",
       "      <td>0</td>\n",
       "      <td>0</td>\n",
       "      <td>1</td>\n",
       "      <td>0</td>\n",
       "      <td>0</td>\n",
       "    </tr>\n",
       "  </tbody>\n",
       "</table>\n",
       "</div>"
      ],
      "text/plain": [
       "   Current_inventory  Transit_time  Forecast_sales_3_months  \\\n",
       "0                  0           8.0                        0   \n",
       "1                  2           9.0                        0   \n",
       "2                  2           8.0                        0   \n",
       "3                  7           8.0                        0   \n",
       "4                  8           8.0                        0   \n",
       "\n",
       "   Forecast_sales_6_months  Forecast_sales_9_months  Sales_quantity_1_months  \\\n",
       "0                        0                        0                        0   \n",
       "1                        0                        0                        0   \n",
       "2                        0                        0                        0   \n",
       "3                        0                        0                        0   \n",
       "4                        0                        0                        0   \n",
       "\n",
       "   Sales_quantity_3_months  Sales_quantity_6_months  Sales_quantity_9_months  \\\n",
       "0                        0                        0                        0   \n",
       "1                        0                        0                        0   \n",
       "2                        0                        0                        0   \n",
       "3                        0                        0                        0   \n",
       "4                        0                        0                        4   \n",
       "\n",
       "   Minimum_recommended_stock  Source_issue_identifying  \\\n",
       "0                          0                         0   \n",
       "1                          0                         0   \n",
       "2                          0                         0   \n",
       "3                          1                         0   \n",
       "4                          2                         0   \n",
       "\n",
       "   Source_performance_6_months  Source_performance_12_months  Flag_deck_risk  \\\n",
       "0                         0.88                          0.87               0   \n",
       "1                         0.99                          0.99               0   \n",
       "2                         0.88                          0.87               1   \n",
       "3                         0.10                          0.13               0   \n",
       "4                         0.88                          0.87               1   \n",
       "\n",
       "   Flag_oe_constraint  Flag_ppap_risk  Flag_stop_auto_buy  Flag_rev_stop  \\\n",
       "0                   0               0                   1              0   \n",
       "1                   0               0                   1              0   \n",
       "2                   0               0                   1              0   \n",
       "3                   0               0                   1              0   \n",
       "4                   0               0                   1              0   \n",
       "\n",
       "   Backordered  \n",
       "0            0  \n",
       "1            0  \n",
       "2            0  \n",
       "3            0  \n",
       "4            0  "
      ]
     },
     "execution_count": 19,
     "metadata": {},
     "output_type": "execute_result"
    }
   ],
   "source": [
    "dat.head()"
   ]
  },
  {
   "cell_type": "code",
   "execution_count": null,
   "metadata": {},
   "outputs": [],
   "source": []
  },
  {
   "cell_type": "markdown",
   "metadata": {},
   "source": [
    "I predict that Flag_deck_risk, Flag_ppap_risk, Flag_stop_auto_buy, Flag_oe_constraint, Flag_rev_stop, Source_issue_identifying have some realtions with Backordered. \n",
    "\n",
    "We will find out using **crosstabulation and chi-square**\n",
    "\n",
    "For a chi-square test for association, the hypotheses are as follows:\n",
    "\n",
    "**Ho==> Features are indepnedent, no association between variables exists.**\n",
    "\n",
    "**H1==> Features are not independent; an association between variables exist.**\n"
   ]
  },
  {
   "cell_type": "code",
   "execution_count": 20,
   "metadata": {},
   "outputs": [
    {
     "data": {
      "text/html": [
       "<div>\n",
       "<style scoped>\n",
       "    .dataframe tbody tr th:only-of-type {\n",
       "        vertical-align: middle;\n",
       "    }\n",
       "\n",
       "    .dataframe tbody tr th {\n",
       "        vertical-align: top;\n",
       "    }\n",
       "\n",
       "    .dataframe thead th {\n",
       "        text-align: right;\n",
       "    }\n",
       "</style>\n",
       "<table border=\"1\" class=\"dataframe\">\n",
       "  <thead>\n",
       "    <tr style=\"text-align: right;\">\n",
       "      <th></th>\n",
       "      <th>Current_inventory</th>\n",
       "      <th>Transit_time</th>\n",
       "      <th>Forecast_sales_3_months</th>\n",
       "      <th>Forecast_sales_6_months</th>\n",
       "      <th>Forecast_sales_9_months</th>\n",
       "      <th>Sales_quantity_1_months</th>\n",
       "      <th>Sales_quantity_3_months</th>\n",
       "      <th>Sales_quantity_6_months</th>\n",
       "      <th>Sales_quantity_9_months</th>\n",
       "      <th>Minimum_recommended_stock</th>\n",
       "      <th>Source_issue_identifying</th>\n",
       "      <th>Source_performance_6_months</th>\n",
       "      <th>Source_performance_12_months</th>\n",
       "      <th>Flag_deck_risk</th>\n",
       "      <th>Flag_oe_constraint</th>\n",
       "      <th>Flag_ppap_risk</th>\n",
       "      <th>Flag_stop_auto_buy</th>\n",
       "      <th>Flag_rev_stop</th>\n",
       "      <th>Backordered</th>\n",
       "    </tr>\n",
       "  </thead>\n",
       "  <tbody>\n",
       "    <tr>\n",
       "      <th>0</th>\n",
       "      <td>0</td>\n",
       "      <td>8.0</td>\n",
       "      <td>0</td>\n",
       "      <td>0</td>\n",
       "      <td>0</td>\n",
       "      <td>0</td>\n",
       "      <td>0</td>\n",
       "      <td>0</td>\n",
       "      <td>0</td>\n",
       "      <td>0</td>\n",
       "      <td>0</td>\n",
       "      <td>0.88</td>\n",
       "      <td>0.87</td>\n",
       "      <td>0</td>\n",
       "      <td>0</td>\n",
       "      <td>0</td>\n",
       "      <td>1</td>\n",
       "      <td>0</td>\n",
       "      <td>0</td>\n",
       "    </tr>\n",
       "    <tr>\n",
       "      <th>1</th>\n",
       "      <td>2</td>\n",
       "      <td>9.0</td>\n",
       "      <td>0</td>\n",
       "      <td>0</td>\n",
       "      <td>0</td>\n",
       "      <td>0</td>\n",
       "      <td>0</td>\n",
       "      <td>0</td>\n",
       "      <td>0</td>\n",
       "      <td>0</td>\n",
       "      <td>0</td>\n",
       "      <td>0.99</td>\n",
       "      <td>0.99</td>\n",
       "      <td>0</td>\n",
       "      <td>0</td>\n",
       "      <td>0</td>\n",
       "      <td>1</td>\n",
       "      <td>0</td>\n",
       "      <td>0</td>\n",
       "    </tr>\n",
       "    <tr>\n",
       "      <th>2</th>\n",
       "      <td>2</td>\n",
       "      <td>8.0</td>\n",
       "      <td>0</td>\n",
       "      <td>0</td>\n",
       "      <td>0</td>\n",
       "      <td>0</td>\n",
       "      <td>0</td>\n",
       "      <td>0</td>\n",
       "      <td>0</td>\n",
       "      <td>0</td>\n",
       "      <td>0</td>\n",
       "      <td>0.88</td>\n",
       "      <td>0.87</td>\n",
       "      <td>1</td>\n",
       "      <td>0</td>\n",
       "      <td>0</td>\n",
       "      <td>1</td>\n",
       "      <td>0</td>\n",
       "      <td>0</td>\n",
       "    </tr>\n",
       "    <tr>\n",
       "      <th>3</th>\n",
       "      <td>7</td>\n",
       "      <td>8.0</td>\n",
       "      <td>0</td>\n",
       "      <td>0</td>\n",
       "      <td>0</td>\n",
       "      <td>0</td>\n",
       "      <td>0</td>\n",
       "      <td>0</td>\n",
       "      <td>0</td>\n",
       "      <td>1</td>\n",
       "      <td>0</td>\n",
       "      <td>0.10</td>\n",
       "      <td>0.13</td>\n",
       "      <td>0</td>\n",
       "      <td>0</td>\n",
       "      <td>0</td>\n",
       "      <td>1</td>\n",
       "      <td>0</td>\n",
       "      <td>0</td>\n",
       "    </tr>\n",
       "    <tr>\n",
       "      <th>4</th>\n",
       "      <td>8</td>\n",
       "      <td>8.0</td>\n",
       "      <td>0</td>\n",
       "      <td>0</td>\n",
       "      <td>0</td>\n",
       "      <td>0</td>\n",
       "      <td>0</td>\n",
       "      <td>0</td>\n",
       "      <td>4</td>\n",
       "      <td>2</td>\n",
       "      <td>0</td>\n",
       "      <td>0.88</td>\n",
       "      <td>0.87</td>\n",
       "      <td>1</td>\n",
       "      <td>0</td>\n",
       "      <td>0</td>\n",
       "      <td>1</td>\n",
       "      <td>0</td>\n",
       "      <td>0</td>\n",
       "    </tr>\n",
       "  </tbody>\n",
       "</table>\n",
       "</div>"
      ],
      "text/plain": [
       "   Current_inventory  Transit_time  Forecast_sales_3_months  \\\n",
       "0                  0           8.0                        0   \n",
       "1                  2           9.0                        0   \n",
       "2                  2           8.0                        0   \n",
       "3                  7           8.0                        0   \n",
       "4                  8           8.0                        0   \n",
       "\n",
       "   Forecast_sales_6_months  Forecast_sales_9_months  Sales_quantity_1_months  \\\n",
       "0                        0                        0                        0   \n",
       "1                        0                        0                        0   \n",
       "2                        0                        0                        0   \n",
       "3                        0                        0                        0   \n",
       "4                        0                        0                        0   \n",
       "\n",
       "   Sales_quantity_3_months  Sales_quantity_6_months  Sales_quantity_9_months  \\\n",
       "0                        0                        0                        0   \n",
       "1                        0                        0                        0   \n",
       "2                        0                        0                        0   \n",
       "3                        0                        0                        0   \n",
       "4                        0                        0                        4   \n",
       "\n",
       "   Minimum_recommended_stock  Source_issue_identifying  \\\n",
       "0                          0                         0   \n",
       "1                          0                         0   \n",
       "2                          0                         0   \n",
       "3                          1                         0   \n",
       "4                          2                         0   \n",
       "\n",
       "   Source_performance_6_months  Source_performance_12_months  Flag_deck_risk  \\\n",
       "0                         0.88                          0.87               0   \n",
       "1                         0.99                          0.99               0   \n",
       "2                         0.88                          0.87               1   \n",
       "3                         0.10                          0.13               0   \n",
       "4                         0.88                          0.87               1   \n",
       "\n",
       "   Flag_oe_constraint  Flag_ppap_risk  Flag_stop_auto_buy  Flag_rev_stop  \\\n",
       "0                   0               0                   1              0   \n",
       "1                   0               0                   1              0   \n",
       "2                   0               0                   1              0   \n",
       "3                   0               0                   1              0   \n",
       "4                   0               0                   1              0   \n",
       "\n",
       "   Backordered  \n",
       "0            0  \n",
       "1            0  \n",
       "2            0  \n",
       "3            0  \n",
       "4            0  "
      ]
     },
     "execution_count": 20,
     "metadata": {},
     "output_type": "execute_result"
    }
   ],
   "source": [
    "dat.head()"
   ]
  },
  {
   "cell_type": "markdown",
   "metadata": {},
   "source": [
    "#### We will evaluate features"
   ]
  },
  {
   "cell_type": "markdown",
   "metadata": {},
   "source": [
    "###### 1. Source_issue_identifying & Backordered"
   ]
  },
  {
   "cell_type": "code",
   "execution_count": 21,
   "metadata": {},
   "outputs": [
    {
     "name": "stdout",
     "output_type": "stream",
     "text": [
      "         No    Yes\n",
      "No   976904  10127\n",
      "Yes     766     50\n",
      "\n",
      "Chi-square Critical value: 3.841458820694124\n",
      "chi2 : 203.13288994007974\n",
      "p_val: 4.327041434303329e-46\n",
      "degree of freedom: 1\n"
     ]
    }
   ],
   "source": [
    "# Source_issue_identifying relation with Backordered\n",
    "\n",
    "contingency_table_sii = pd.crosstab(dat.Source_issue_identifying, dat.Backordered)\n",
    "contingency_table_sii.columns = ['No','Yes']\n",
    "contingency_table_sii.index = ['No','Yes']\n",
    "print(contingency_table_sii)\n",
    "\n",
    "chi_sii , p_val_sii , dof_sii , exp_sii = st.chi2_contingency(contingency_table_sii)\n",
    "chi2_critical_sii = st.chi2.ppf(q = 0.95, df = dof_sii)\n",
    "print(\"\\nChi-square Critical value:\", chi2_critical_sii)\n",
    "print('chi2 :', chi_sii)\n",
    "print('p_val:', p_val_sii)\n",
    "print('degree of freedom:', dof_sii)"
   ]
  },
  {
   "cell_type": "markdown",
   "metadata": {},
   "source": [
    "###### 2. Flag_stop_auto_buy & Backordered"
   ]
  },
  {
   "cell_type": "code",
   "execution_count": 22,
   "metadata": {},
   "outputs": [
    {
     "name": "stdout",
     "output_type": "stream",
     "text": [
      "         No   Yes\n",
      "No    32509   401\n",
      "Yes  945161  9776\n",
      "\n",
      "Chi-square Critical value: 3.841458820694124\n",
      "chi2: 11.642919961427026\n",
      "p_val: 0.0006444735805238595\n",
      "degree of freedom: 1\n"
     ]
    }
   ],
   "source": [
    "# Flag_stop_auto_buy relation  with Backordered\n",
    "\n",
    "contingency_table_stop_auto_buy = pd.crosstab(dat.Flag_stop_auto_buy, dat.Backordered)\n",
    "contingency_table_stop_auto_buy.columns = ['No','Yes']\n",
    "contingency_table_stop_auto_buy.index = ['No','Yes']\n",
    "print(contingency_table_stop_auto_buy)\n",
    "\n",
    "chi2_stop_auto_buy, p_val_stop_auto_buy, dof_stop_auto_buy, exp_stop_auto_buy = st.chi2_contingency(contingency_table_stop_auto_buy)\n",
    "chi2_critical_stop_auto_buy = st.chi2.ppf(q = 0.95, df = dof_stop_auto_buy)\n",
    "print(\"\\nChi-square Critical value:\", chi2_critical_stop_auto_buy)\n",
    "print('chi2:', chi2_stop_auto_buy)\n",
    "print('p_val:', p_val_stop_auto_buy)\n",
    "print('degree of freedom:', dof_stop_auto_buy)"
   ]
  },
  {
   "cell_type": "markdown",
   "metadata": {},
   "source": [
    "###### 3. Flag_stop_auto_buy & Backordered"
   ]
  },
  {
   "cell_type": "code",
   "execution_count": 23,
   "metadata": {},
   "outputs": [
    {
     "name": "stdout",
     "output_type": "stream",
     "text": [
      "         No   Yes\n",
      "No   821326  8658\n",
      "Yes  156344  1519\n",
      "\n",
      "Chi-square Critical value: 3.841458820694124\n",
      "chi2: 8.440092361348885\n",
      "p_val: 0.003670376064113351\n",
      "degree of freedom: 1\n"
     ]
    }
   ],
   "source": [
    "# Flag_deck_risk has relation with Backordered\n",
    "\n",
    "contingency_table_deck_risk = pd.crosstab(dat.Flag_deck_risk, dat.Backordered)\n",
    "contingency_table_deck_risk.columns = ['No','Yes']\n",
    "contingency_table_deck_risk.index = ['No','Yes']\n",
    "print(contingency_table_deck_risk)\n",
    "\n",
    "chi2, p_vl, dof, exp = st.chi2_contingency(contingency_table_deck_risk )\n",
    "chi2_critical = st.chi2.ppf(q = 0.95, df = dof)\n",
    "print(\"\\nChi-square Critical value:\", chi2_critical)\n",
    "print('chi2:', chi2)\n",
    "print('p_val:', p_vl)\n",
    "print('degree of freedom:', dof)"
   ]
  },
  {
   "cell_type": "code",
   "execution_count": null,
   "metadata": {},
   "outputs": [],
   "source": []
  },
  {
   "cell_type": "markdown",
   "metadata": {},
   "source": [
    "###### 4. Flag_oe_constraint & Backordered"
   ]
  },
  {
   "cell_type": "code",
   "execution_count": 24,
   "metadata": {
    "scrolled": true
   },
   "outputs": [
    {
     "name": "stdout",
     "output_type": "stream",
     "text": [
      "         No    Yes\n",
      "No   977453  10170\n",
      "Yes     217      7\n",
      "\n",
      "Chi-square Critical value: 3.841458820694124\n",
      "chi2 : 7.697041935856938\n",
      "p_val: 0.005531139903239315\n",
      "degree of freedom: 1\n"
     ]
    }
   ],
   "source": [
    "# Flag_oe_constraint relation with Backordered\n",
    "\n",
    "contingency_table_oeconstraint = pd.crosstab(dat.Flag_oe_constraint, dat.Backordered)\n",
    "contingency_table_oeconstraint.columns = ['No','Yes']\n",
    "contingency_table_oeconstraint.index = ['No','Yes']\n",
    "print(contingency_table_oeconstraint)\n",
    "\n",
    "chi_oeconstraint , p_val_oeconstraint , dof_oeconstraint , exp_oeconstraint = st.chi2_contingency(contingency_table_oeconstraint)\n",
    "chi2_critical_oeconstraint = st.chi2.ppf(q = 0.95, df = dof_oeconstraint)\n",
    "print(\"\\nChi-square Critical value:\", chi2_critical_oeconstraint)\n",
    "print('chi2 :', chi_oeconstraint)\n",
    "print('p_val:', p_val_oeconstraint)\n",
    "print('degree of freedom:', dof_oeconstraint)"
   ]
  },
  {
   "cell_type": "markdown",
   "metadata": {},
   "source": [
    "###### 5. Flag_ppap_risk & Backordered"
   ]
  },
  {
   "cell_type": "code",
   "execution_count": 25,
   "metadata": {
    "scrolled": true
   },
   "outputs": [
    {
     "name": "stdout",
     "output_type": "stream",
     "text": [
      "         No   Yes\n",
      "No   861374  8689\n",
      "Yes  116296  1488\n",
      "\n",
      "Chi-square Critical value: 3.841458820694124\n",
      "chi2 : 71.01143513033027\n",
      "p_val: 3.551604145100746e-17\n",
      "degree of freedom: 1\n"
     ]
    }
   ],
   "source": [
    "# Flag_ppap_risk relation with Backordered\n",
    "\n",
    "contingency_table_ppasrisk = pd.crosstab(dat.Flag_ppap_risk, dat.Backordered)\n",
    "contingency_table_ppasrisk.columns = ['No','Yes']\n",
    "contingency_table_ppasrisk.index = ['No','Yes']\n",
    "print(contingency_table_ppasrisk)\n",
    "\n",
    "chi_ppasrisk , p_val_ppasrisk , dof_ppasrisk , exp_ppasrisk  = st.chi2_contingency(contingency_table_ppasrisk )\n",
    "chi2_critical_ppasrisk = st.chi2.ppf(q = 0.95, df = dof_ppasrisk)\n",
    "print(\"\\nChi-square Critical value:\", chi2_critical_ppasrisk)\n",
    "print('chi2 :', chi_ppasrisk)\n",
    "print('p_val:', p_val_ppasrisk)\n",
    "print('degree of freedom:', dof_ppasrisk)"
   ]
  },
  {
   "cell_type": "markdown",
   "metadata": {},
   "source": [
    "###### 6. Flag_rev_stop & Backordered"
   ]
  },
  {
   "cell_type": "code",
   "execution_count": 26,
   "metadata": {
    "scrolled": true
   },
   "outputs": [
    {
     "name": "stdout",
     "output_type": "stream",
     "text": [
      "         No    Yes\n",
      "No   977323  10177\n",
      "Yes     347      0\n",
      "\n",
      "Chi-square Critical value: 3.841458820694124\n",
      "chi2 : 2.673266949582834\n",
      "p_val: 0.10204635837813392\n",
      "degree of freedom: 1\n"
     ]
    }
   ],
   "source": [
    "# Flag_rev_stop relation with Backordered\n",
    "\n",
    "contingency_table_rs = pd.crosstab(dat.Flag_rev_stop, dat.Backordered)\n",
    "contingency_table_rs.columns = ['No','Yes']\n",
    "contingency_table_rs.index = ['No','Yes']\n",
    "print(contingency_table_rs)\n",
    "\n",
    "chi_rs , p_val_rs , dof_rs , exp_rs  = st.chi2_contingency(contingency_table_rs )\n",
    "chi2_critical_rs = st.chi2.ppf(q = 0.95, df = dof_rs)\n",
    "print(\"\\nChi-square Critical value:\", chi2_critical_rs)\n",
    "print('chi2 :', chi_rs)\n",
    "print('p_val:', p_val_rs)\n",
    "print('degree of freedom:', dof_rs)"
   ]
  },
  {
   "cell_type": "markdown",
   "metadata": {},
   "source": [
    "## Conclusions"
   ]
  },
  {
   "cell_type": "markdown",
   "metadata": {},
   "source": [
    "- We used crosstabulation and chi-square to find the relation between target variable with other categorical variables. \n",
    "- All the relations has **p-values < 0.05** and we also have **chi-square calculated value > the chi-square critical value**. \n",
    "- Based on these two evidence we can reject the null hypothesis and can go with the alternate hypothesis. \n",
    "\n",
    "Here we can say that Backordered is related to:\n",
    "- Source_issue_identifying\n",
    "- Flag_stop_auto_buy\n",
    "- Flag_deck_risk\n",
    "- Flag_ppap_risk\n",
    "- Flag_oe_constraint\n",
    "\n",
    "And Backordered is not related to:\n",
    "- Flag_rev_stop ( p_val > 0.05 and chi2 < Chi-square Critical value )\n",
    "\n",
    "So we will keep **Source_issue_identifying**, **Flag_stop_auto_buy**, **Flag_deck_risk**, **Flag_ppap_risk**, **Flag_oe_constraint**  features for modeling process.\n"
   ]
  },
  {
   "cell_type": "code",
   "execution_count": 27,
   "metadata": {},
   "outputs": [],
   "source": [
    "del dat[\"Flag_rev_stop\"]\n"
   ]
  },
  {
   "cell_type": "code",
   "execution_count": 28,
   "metadata": {},
   "outputs": [
    {
     "data": {
      "text/html": [
       "<div>\n",
       "<style scoped>\n",
       "    .dataframe tbody tr th:only-of-type {\n",
       "        vertical-align: middle;\n",
       "    }\n",
       "\n",
       "    .dataframe tbody tr th {\n",
       "        vertical-align: top;\n",
       "    }\n",
       "\n",
       "    .dataframe thead th {\n",
       "        text-align: right;\n",
       "    }\n",
       "</style>\n",
       "<table border=\"1\" class=\"dataframe\">\n",
       "  <thead>\n",
       "    <tr style=\"text-align: right;\">\n",
       "      <th></th>\n",
       "      <th>Current_inventory</th>\n",
       "      <th>Transit_time</th>\n",
       "      <th>Forecast_sales_3_months</th>\n",
       "      <th>Forecast_sales_6_months</th>\n",
       "      <th>Forecast_sales_9_months</th>\n",
       "      <th>Sales_quantity_1_months</th>\n",
       "      <th>Sales_quantity_3_months</th>\n",
       "      <th>Sales_quantity_6_months</th>\n",
       "      <th>Sales_quantity_9_months</th>\n",
       "      <th>Minimum_recommended_stock</th>\n",
       "      <th>Source_issue_identifying</th>\n",
       "      <th>Source_performance_6_months</th>\n",
       "      <th>Source_performance_12_months</th>\n",
       "      <th>Flag_deck_risk</th>\n",
       "      <th>Flag_oe_constraint</th>\n",
       "      <th>Flag_ppap_risk</th>\n",
       "      <th>Flag_stop_auto_buy</th>\n",
       "      <th>Backordered</th>\n",
       "    </tr>\n",
       "  </thead>\n",
       "  <tbody>\n",
       "    <tr>\n",
       "      <th>0</th>\n",
       "      <td>0</td>\n",
       "      <td>8.0</td>\n",
       "      <td>0</td>\n",
       "      <td>0</td>\n",
       "      <td>0</td>\n",
       "      <td>0</td>\n",
       "      <td>0</td>\n",
       "      <td>0</td>\n",
       "      <td>0</td>\n",
       "      <td>0</td>\n",
       "      <td>0</td>\n",
       "      <td>0.88</td>\n",
       "      <td>0.87</td>\n",
       "      <td>0</td>\n",
       "      <td>0</td>\n",
       "      <td>0</td>\n",
       "      <td>1</td>\n",
       "      <td>0</td>\n",
       "    </tr>\n",
       "    <tr>\n",
       "      <th>1</th>\n",
       "      <td>2</td>\n",
       "      <td>9.0</td>\n",
       "      <td>0</td>\n",
       "      <td>0</td>\n",
       "      <td>0</td>\n",
       "      <td>0</td>\n",
       "      <td>0</td>\n",
       "      <td>0</td>\n",
       "      <td>0</td>\n",
       "      <td>0</td>\n",
       "      <td>0</td>\n",
       "      <td>0.99</td>\n",
       "      <td>0.99</td>\n",
       "      <td>0</td>\n",
       "      <td>0</td>\n",
       "      <td>0</td>\n",
       "      <td>1</td>\n",
       "      <td>0</td>\n",
       "    </tr>\n",
       "    <tr>\n",
       "      <th>2</th>\n",
       "      <td>2</td>\n",
       "      <td>8.0</td>\n",
       "      <td>0</td>\n",
       "      <td>0</td>\n",
       "      <td>0</td>\n",
       "      <td>0</td>\n",
       "      <td>0</td>\n",
       "      <td>0</td>\n",
       "      <td>0</td>\n",
       "      <td>0</td>\n",
       "      <td>0</td>\n",
       "      <td>0.88</td>\n",
       "      <td>0.87</td>\n",
       "      <td>1</td>\n",
       "      <td>0</td>\n",
       "      <td>0</td>\n",
       "      <td>1</td>\n",
       "      <td>0</td>\n",
       "    </tr>\n",
       "    <tr>\n",
       "      <th>3</th>\n",
       "      <td>7</td>\n",
       "      <td>8.0</td>\n",
       "      <td>0</td>\n",
       "      <td>0</td>\n",
       "      <td>0</td>\n",
       "      <td>0</td>\n",
       "      <td>0</td>\n",
       "      <td>0</td>\n",
       "      <td>0</td>\n",
       "      <td>1</td>\n",
       "      <td>0</td>\n",
       "      <td>0.10</td>\n",
       "      <td>0.13</td>\n",
       "      <td>0</td>\n",
       "      <td>0</td>\n",
       "      <td>0</td>\n",
       "      <td>1</td>\n",
       "      <td>0</td>\n",
       "    </tr>\n",
       "    <tr>\n",
       "      <th>4</th>\n",
       "      <td>8</td>\n",
       "      <td>8.0</td>\n",
       "      <td>0</td>\n",
       "      <td>0</td>\n",
       "      <td>0</td>\n",
       "      <td>0</td>\n",
       "      <td>0</td>\n",
       "      <td>0</td>\n",
       "      <td>4</td>\n",
       "      <td>2</td>\n",
       "      <td>0</td>\n",
       "      <td>0.88</td>\n",
       "      <td>0.87</td>\n",
       "      <td>1</td>\n",
       "      <td>0</td>\n",
       "      <td>0</td>\n",
       "      <td>1</td>\n",
       "      <td>0</td>\n",
       "    </tr>\n",
       "  </tbody>\n",
       "</table>\n",
       "</div>"
      ],
      "text/plain": [
       "   Current_inventory  Transit_time  Forecast_sales_3_months  \\\n",
       "0                  0           8.0                        0   \n",
       "1                  2           9.0                        0   \n",
       "2                  2           8.0                        0   \n",
       "3                  7           8.0                        0   \n",
       "4                  8           8.0                        0   \n",
       "\n",
       "   Forecast_sales_6_months  Forecast_sales_9_months  Sales_quantity_1_months  \\\n",
       "0                        0                        0                        0   \n",
       "1                        0                        0                        0   \n",
       "2                        0                        0                        0   \n",
       "3                        0                        0                        0   \n",
       "4                        0                        0                        0   \n",
       "\n",
       "   Sales_quantity_3_months  Sales_quantity_6_months  Sales_quantity_9_months  \\\n",
       "0                        0                        0                        0   \n",
       "1                        0                        0                        0   \n",
       "2                        0                        0                        0   \n",
       "3                        0                        0                        0   \n",
       "4                        0                        0                        4   \n",
       "\n",
       "   Minimum_recommended_stock  Source_issue_identifying  \\\n",
       "0                          0                         0   \n",
       "1                          0                         0   \n",
       "2                          0                         0   \n",
       "3                          1                         0   \n",
       "4                          2                         0   \n",
       "\n",
       "   Source_performance_6_months  Source_performance_12_months  Flag_deck_risk  \\\n",
       "0                         0.88                          0.87               0   \n",
       "1                         0.99                          0.99               0   \n",
       "2                         0.88                          0.87               1   \n",
       "3                         0.10                          0.13               0   \n",
       "4                         0.88                          0.87               1   \n",
       "\n",
       "   Flag_oe_constraint  Flag_ppap_risk  Flag_stop_auto_buy  Backordered  \n",
       "0                   0               0                   1            0  \n",
       "1                   0               0                   1            0  \n",
       "2                   0               0                   1            0  \n",
       "3                   0               0                   1            0  \n",
       "4                   0               0                   1            0  "
      ]
     },
     "execution_count": 28,
     "metadata": {},
     "output_type": "execute_result"
    }
   ],
   "source": [
    "dat.head(5)"
   ]
  },
  {
   "cell_type": "code",
   "execution_count": 29,
   "metadata": {},
   "outputs": [
    {
     "data": {
      "text/plain": [
       "(987847, 18)"
      ]
     },
     "execution_count": 29,
     "metadata": {},
     "output_type": "execute_result"
    }
   ],
   "source": [
    "dat.shape"
   ]
  },
  {
   "cell_type": "code",
   "execution_count": 30,
   "metadata": {},
   "outputs": [],
   "source": [
    "dat.to_csv('../dataset/02_training_set_cleaned_for_modeling.csv',index=False)"
   ]
  },
  {
   "cell_type": "code",
   "execution_count": null,
   "metadata": {},
   "outputs": [],
   "source": []
  }
 ],
 "metadata": {
  "kernelspec": {
   "display_name": "Python 3",
   "language": "python",
   "name": "python3"
  },
  "language_info": {
   "codemirror_mode": {
    "name": "ipython",
    "version": 3
   },
   "file_extension": ".py",
   "mimetype": "text/x-python",
   "name": "python",
   "nbconvert_exporter": "python",
   "pygments_lexer": "ipython3",
   "version": "3.7.3"
  }
 },
 "nbformat": 4,
 "nbformat_minor": 2
}
