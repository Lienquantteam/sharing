{
 "cells": [
  {
   "cell_type": "code",
   "execution_count": 1,
   "metadata": {},
   "outputs": [
    {
     "data": {
      "text/html": [
       "<style>.container { width:100% !important; }</style>"
      ],
      "text/plain": [
       "<IPython.core.display.HTML object>"
      ]
     },
     "metadata": {},
     "output_type": "display_data"
    }
   ],
   "source": [
    "from IPython.core.display import display, HTML\n",
    "display(HTML(\"<style>.container { width:100% !important; }</style>\"))"
   ]
  },
  {
   "cell_type": "code",
   "execution_count": 2,
   "metadata": {},
   "outputs": [],
   "source": [
    "import time\n",
    "import pandas as pd\n",
    "import numpy as np\n",
    "import matplotlib.pylab as plt\n",
    "import seaborn as sns\n",
    "from sklearn.model_selection import train_test_split \n",
    "from sklearn.linear_model import LogisticRegression\n",
    "from sklearn.metrics import classification_report\n",
    "from sklearn.metrics import accuracy_score\n",
    "from sklearn.metrics import roc_curve\n",
    "from sklearn.model_selection import cross_val_score\n",
    "from sklearn.model_selection import GridSearchCV\n",
    "from sklearn import svm\n",
    "from sklearn.model_selection import RandomizedSearchCV \n",
    "from sklearn.ensemble import RandomForestClassifier\n",
    "from sklearn.ensemble import GradientBoostingClassifier\n",
    "from sklearn.ensemble import AdaBoostClassifier\n",
    "from scipy import stats as st\n",
    "from sklearn.neighbors import KNeighborsClassifier\n",
    "from sklearn.preprocessing import StandardScaler\n",
    "from sklearn.pipeline import Pipeline\n",
    "from sklearn.metrics import precision_score\n",
    "from sklearn.metrics import average_precision_score\n",
    "from sklearn.metrics import precision_recall_curve\n",
    "%matplotlib inline"
   ]
  },
  {
   "cell_type": "markdown",
   "metadata": {},
   "source": [
    "Here I am planning to perform all the below **tasks** : \n",
    "\n",
    "\n",
    "+ Divide the sample data to **train and test** data\n",
    "\n",
    "+ Create models with default values\n",
    "\n",
    "+ Train the model\n",
    "\n",
    "+ Validate and test the model\n",
    "\n",
    "+ Plot **recall-precision curv**e for all the trained models to compare\n"
   ]
  },
  {
   "cell_type": "code",
   "execution_count": 3,
   "metadata": {},
   "outputs": [
    {
     "data": {
      "text/html": [
       "<div>\n",
       "<style scoped>\n",
       "    .dataframe tbody tr th:only-of-type {\n",
       "        vertical-align: middle;\n",
       "    }\n",
       "\n",
       "    .dataframe tbody tr th {\n",
       "        vertical-align: top;\n",
       "    }\n",
       "\n",
       "    .dataframe thead th {\n",
       "        text-align: right;\n",
       "    }\n",
       "</style>\n",
       "<table border=\"1\" class=\"dataframe\">\n",
       "  <thead>\n",
       "    <tr style=\"text-align: right;\">\n",
       "      <th></th>\n",
       "      <th>Current_inventory</th>\n",
       "      <th>Transit_time</th>\n",
       "      <th>Forecast_sales_3_months</th>\n",
       "      <th>Forecast_sales_6_months</th>\n",
       "      <th>Forecast_sales_9_months</th>\n",
       "      <th>Sales_quantity_1_months</th>\n",
       "      <th>Sales_quantity_3_months</th>\n",
       "      <th>Sales_quantity_6_months</th>\n",
       "      <th>Sales_quantity_9_months</th>\n",
       "      <th>Minimum_recommended_stock</th>\n",
       "      <th>Source_issue_identifying</th>\n",
       "      <th>Source_performance_6_months</th>\n",
       "      <th>Source_performance_12_months</th>\n",
       "      <th>Flag_deck_risk</th>\n",
       "      <th>Flag_oe_constraint</th>\n",
       "      <th>Flag_ppap_risk</th>\n",
       "      <th>Flag_stop_auto_buy</th>\n",
       "      <th>Backordered</th>\n",
       "    </tr>\n",
       "  </thead>\n",
       "  <tbody>\n",
       "    <tr>\n",
       "      <th>0</th>\n",
       "      <td>0</td>\n",
       "      <td>8.0</td>\n",
       "      <td>0</td>\n",
       "      <td>0</td>\n",
       "      <td>0</td>\n",
       "      <td>0</td>\n",
       "      <td>0</td>\n",
       "      <td>0</td>\n",
       "      <td>0</td>\n",
       "      <td>0</td>\n",
       "      <td>0</td>\n",
       "      <td>0.88</td>\n",
       "      <td>0.87</td>\n",
       "      <td>0</td>\n",
       "      <td>0</td>\n",
       "      <td>0</td>\n",
       "      <td>1</td>\n",
       "      <td>0</td>\n",
       "    </tr>\n",
       "    <tr>\n",
       "      <th>1</th>\n",
       "      <td>2</td>\n",
       "      <td>9.0</td>\n",
       "      <td>0</td>\n",
       "      <td>0</td>\n",
       "      <td>0</td>\n",
       "      <td>0</td>\n",
       "      <td>0</td>\n",
       "      <td>0</td>\n",
       "      <td>0</td>\n",
       "      <td>0</td>\n",
       "      <td>0</td>\n",
       "      <td>0.99</td>\n",
       "      <td>0.99</td>\n",
       "      <td>0</td>\n",
       "      <td>0</td>\n",
       "      <td>0</td>\n",
       "      <td>1</td>\n",
       "      <td>0</td>\n",
       "    </tr>\n",
       "    <tr>\n",
       "      <th>2</th>\n",
       "      <td>2</td>\n",
       "      <td>8.0</td>\n",
       "      <td>0</td>\n",
       "      <td>0</td>\n",
       "      <td>0</td>\n",
       "      <td>0</td>\n",
       "      <td>0</td>\n",
       "      <td>0</td>\n",
       "      <td>0</td>\n",
       "      <td>0</td>\n",
       "      <td>0</td>\n",
       "      <td>0.88</td>\n",
       "      <td>0.87</td>\n",
       "      <td>1</td>\n",
       "      <td>0</td>\n",
       "      <td>0</td>\n",
       "      <td>1</td>\n",
       "      <td>0</td>\n",
       "    </tr>\n",
       "    <tr>\n",
       "      <th>3</th>\n",
       "      <td>7</td>\n",
       "      <td>8.0</td>\n",
       "      <td>0</td>\n",
       "      <td>0</td>\n",
       "      <td>0</td>\n",
       "      <td>0</td>\n",
       "      <td>0</td>\n",
       "      <td>0</td>\n",
       "      <td>0</td>\n",
       "      <td>1</td>\n",
       "      <td>0</td>\n",
       "      <td>0.10</td>\n",
       "      <td>0.13</td>\n",
       "      <td>0</td>\n",
       "      <td>0</td>\n",
       "      <td>0</td>\n",
       "      <td>1</td>\n",
       "      <td>0</td>\n",
       "    </tr>\n",
       "    <tr>\n",
       "      <th>4</th>\n",
       "      <td>8</td>\n",
       "      <td>8.0</td>\n",
       "      <td>0</td>\n",
       "      <td>0</td>\n",
       "      <td>0</td>\n",
       "      <td>0</td>\n",
       "      <td>0</td>\n",
       "      <td>0</td>\n",
       "      <td>4</td>\n",
       "      <td>2</td>\n",
       "      <td>0</td>\n",
       "      <td>0.88</td>\n",
       "      <td>0.87</td>\n",
       "      <td>1</td>\n",
       "      <td>0</td>\n",
       "      <td>0</td>\n",
       "      <td>1</td>\n",
       "      <td>0</td>\n",
       "    </tr>\n",
       "  </tbody>\n",
       "</table>\n",
       "</div>"
      ],
      "text/plain": [
       "   Current_inventory  Transit_time  Forecast_sales_3_months  \\\n",
       "0                  0           8.0                        0   \n",
       "1                  2           9.0                        0   \n",
       "2                  2           8.0                        0   \n",
       "3                  7           8.0                        0   \n",
       "4                  8           8.0                        0   \n",
       "\n",
       "   Forecast_sales_6_months  Forecast_sales_9_months  Sales_quantity_1_months  \\\n",
       "0                        0                        0                        0   \n",
       "1                        0                        0                        0   \n",
       "2                        0                        0                        0   \n",
       "3                        0                        0                        0   \n",
       "4                        0                        0                        0   \n",
       "\n",
       "   Sales_quantity_3_months  Sales_quantity_6_months  Sales_quantity_9_months  \\\n",
       "0                        0                        0                        0   \n",
       "1                        0                        0                        0   \n",
       "2                        0                        0                        0   \n",
       "3                        0                        0                        0   \n",
       "4                        0                        0                        4   \n",
       "\n",
       "   Minimum_recommended_stock  Source_issue_identifying  \\\n",
       "0                          0                         0   \n",
       "1                          0                         0   \n",
       "2                          0                         0   \n",
       "3                          1                         0   \n",
       "4                          2                         0   \n",
       "\n",
       "   Source_performance_6_months  Source_performance_12_months  Flag_deck_risk  \\\n",
       "0                         0.88                          0.87               0   \n",
       "1                         0.99                          0.99               0   \n",
       "2                         0.88                          0.87               1   \n",
       "3                         0.10                          0.13               0   \n",
       "4                         0.88                          0.87               1   \n",
       "\n",
       "   Flag_oe_constraint  Flag_ppap_risk  Flag_stop_auto_buy  Backordered  \n",
       "0                   0               0                   1            0  \n",
       "1                   0               0                   1            0  \n",
       "2                   0               0                   1            0  \n",
       "3                   0               0                   1            0  \n",
       "4                   0               0                   1            0  "
      ]
     },
     "execution_count": 3,
     "metadata": {},
     "output_type": "execute_result"
    }
   ],
   "source": [
    "# read and validate the previously cleaned file\n",
    "data = pd.read_csv('../dataset/02_training_set_cleaned_for_modeling.csv')\n",
    "data.head()"
   ]
  },
  {
   "cell_type": "code",
   "execution_count": 4,
   "metadata": {},
   "outputs": [
    {
     "name": "stdout",
     "output_type": "stream",
     "text": [
      "X shape:  (987847, 17) y shape:  (987847,)\n",
      "\n",
      "sample: \n",
      " X_sample =  (296354, 17) \n",
      " y_sample =  (296354,) \n",
      " X_data =  (691493, 17) \n",
      " y_data =  (691493,)\n",
      "\n",
      "test: \n",
      " X_train =  (207447, 17) \n",
      " X_test =  (88907, 17)\n"
     ]
    }
   ],
   "source": [
    "# Prepare the data for modelling\n",
    "X = data[data.columns]\n",
    "del X[\"Backordered\"]\n",
    "y =data['Backordered']\n",
    "print(\"X shape: \", X.shape, \"y shape: \" , y.shape)\n",
    "\n",
    "# get 20% sample data \n",
    "X_sample, X_data,  y_sample, y_data = train_test_split(X,\n",
    "                                                       y,\n",
    "                                                       test_size=0.7, \n",
    "                                                       random_state=42) \n",
    "\n",
    "print(\"\\nsample: \\n X_sample = \", X_sample.shape ,\n",
    "      \"\\n y_sample = \", y_sample.shape,\n",
    "      \"\\n X_data = \", X_data.shape,\n",
    "      \"\\n y_data = \", y_data.shape)\n",
    "\n",
    "X_train, X_test, y_train, y_test = train_test_split(X_sample, \n",
    "                                                    y_sample,\n",
    "                                                    test_size=0.30,\n",
    "                                                    random_state=42)\n",
    "print(\"\\ntest: \\n X_train = \", X_train.shape, \"\\n X_test = \",X_test.shape)"
   ]
  },
  {
   "cell_type": "markdown",
   "metadata": {},
   "source": [
    "# Try with classified models"
   ]
  },
  {
   "cell_type": "markdown",
   "metadata": {},
   "source": [
    "### 1. Train KNN model with default parameters on 20% sample data"
   ]
  },
  {
   "cell_type": "code",
   "execution_count": 14,
   "metadata": {},
   "outputs": [
    {
     "name": "stdout",
     "output_type": "stream",
     "text": [
      "              precision    recall  f1-score   support\n",
      "\n",
      "           0       0.99      1.00      0.99     88001\n",
      "           1       0.25      0.01      0.03       906\n",
      "\n",
      "    accuracy                           0.99     88907\n",
      "   macro avg       0.62      0.51      0.51     88907\n",
      "weighted avg       0.98      0.99      0.98     88907\n",
      "\n",
      "\n",
      "time:  65.0\n"
     ]
    }
   ],
   "source": [
    "# KNN Classifier\n",
    "steps = [('scaler', StandardScaler()),\n",
    "         ('knn', KNeighborsClassifier(n_jobs=-1))]\n",
    "# create the pipeline: pipeline \n",
    "pipeline_knn = Pipeline(steps)\n",
    "\n",
    "# start count time\n",
    "start_time = time.time()\n",
    "\n",
    "# fit to the training set\n",
    "pipeline_knn.fit(X_train, y_train)\n",
    "knn_prediction = pipeline_knn.predict( X_test )\n",
    "\n",
    "# get the classification report\n",
    "knn_report = classification_report( y_test, knn_prediction )\n",
    "\n",
    "print(knn_report)\n",
    "\n",
    "# calculate time\n",
    "elapsed_time = time.time() - start_time\n",
    "\n",
    "print(\"\\ntime: \", str(elapsed_time)[:4])"
   ]
  },
  {
   "cell_type": "markdown",
   "metadata": {},
   "source": [
    "### 2. Train LinearSvc model with default parameters on 20% sample data"
   ]
  },
  {
   "cell_type": "code",
   "execution_count": 6,
   "metadata": {},
   "outputs": [
    {
     "name": "stderr",
     "output_type": "stream",
     "text": [
      "/root/anaconda3/lib/python3.7/site-packages/sklearn/svm/base.py:929: ConvergenceWarning: Liblinear failed to converge, increase the number of iterations.\n",
      "  \"the number of iterations.\", ConvergenceWarning)\n"
     ]
    },
    {
     "name": "stdout",
     "output_type": "stream",
     "text": [
      "              precision    recall  f1-score   support\n",
      "\n",
      "           0       1.00      0.65      0.78     88001\n",
      "           1       0.02      0.79      0.04       906\n",
      "\n",
      "    accuracy                           0.65     88907\n",
      "   macro avg       0.51      0.72      0.41     88907\n",
      "weighted avg       0.99      0.65      0.78     88907\n",
      "\n",
      "\n",
      "time:  133.9491469860077\n"
     ]
    }
   ],
   "source": [
    "# train default LinearSV on 20% of the data\n",
    "steps = [('scaler', StandardScaler()),\n",
    "         ('svclinear', svm.LinearSVC(class_weight='balanced'))]  \n",
    "\n",
    "# create the pipeline: pipeline \n",
    "pipeline_svclinear = Pipeline(steps)\n",
    "\n",
    "# start count time\n",
    "start_time = time.time()\n",
    "\n",
    "# fit to the training set\n",
    "pipeline_svclinear.fit(X_train, y_train)\n",
    "svclinear_prediction = pipeline_svclinear.predict(X_test)\n",
    "\n",
    "# get the classification report\n",
    "svclinear_report = classification_report(y_test, svclinear_prediction)\n",
    "\n",
    "print(svclinear_report)\n",
    "\n",
    "# calculate time\n",
    "elapsed_time = time.time() - start_time\n",
    "\n",
    "print(\"\\ntime: \", elapsed_time)"
   ]
  },
  {
   "cell_type": "markdown",
   "metadata": {},
   "source": [
    "### 3. Train SVC model with default parameters on 20% sample data"
   ]
  },
  {
   "cell_type": "code",
   "execution_count": null,
   "metadata": {},
   "outputs": [],
   "source": [
    "# train default SVC on 10% of the date and get basic rsult\n",
    "steps = [('scaler', StandardScaler()),\n",
    "         ('svc', svm.SVC(class_weight='balanced'))]\n",
    "# create the pipeline: pipeline \n",
    "pipeline_svc = Pipeline(steps)\n",
    "\n",
    "# start count time\n",
    "start_time = time.time()\n",
    "\n",
    "# Fit to the training set\n",
    "pipeline_svc.fit(X_train, y_train)\n",
    "svc_prediction = pipeline_svc.predict( X_test )\n",
    "\n",
    "# get the classification report\n",
    "svc_report = classification_report( y_test, svc_prediction )\n",
    "\n",
    "print(svc_report)\n",
    "\n",
    "# calculate time\n",
    "elapsed_time = time.time() - start_time\n",
    "\n",
    "print(\"\\ntime: \", elapsed_time)"
   ]
  },
  {
   "cell_type": "markdown",
   "metadata": {},
   "source": [
    "### 4. Train LogisticRegression model with default parameters on 20% sample data"
   ]
  },
  {
   "cell_type": "code",
   "execution_count": 5,
   "metadata": {},
   "outputs": [
    {
     "name": "stderr",
     "output_type": "stream",
     "text": [
      "/root/anaconda3/lib/python3.7/site-packages/sklearn/linear_model/logistic.py:432: FutureWarning: Default solver will be changed to 'lbfgs' in 0.22. Specify a solver to silence this warning.\n",
      "  FutureWarning)\n",
      "/root/anaconda3/lib/python3.7/site-packages/sklearn/linear_model/logistic.py:1544: UserWarning: 'n_jobs' > 1 does not have any effect when 'solver' is set to 'liblinear'. Got 'n_jobs' = 12.\n",
      "  \" = {}.\".format(effective_n_jobs(self.n_jobs)))\n"
     ]
    },
    {
     "name": "stdout",
     "output_type": "stream",
     "text": [
      "              precision    recall  f1-score   support\n",
      "\n",
      "           0       1.00      0.59      0.74     88001\n",
      "           1       0.02      0.92      0.04       906\n",
      "\n",
      "    accuracy                           0.59     88907\n",
      "   macro avg       0.51      0.76      0.39     88907\n",
      "weighted avg       0.99      0.59      0.73     88907\n",
      "\n",
      "\n",
      "time:  12.688793182373047\n"
     ]
    },
    {
     "name": "stderr",
     "output_type": "stream",
     "text": [
      "/root/anaconda3/lib/python3.7/site-packages/sklearn/svm/base.py:929: ConvergenceWarning: Liblinear failed to converge, increase the number of iterations.\n",
      "  \"the number of iterations.\", ConvergenceWarning)\n"
     ]
    }
   ],
   "source": [
    "# train default LogisticRegression on 20% of the data\n",
    "steps = [('scaler', StandardScaler()),\n",
    "         ('logreg', LogisticRegression(class_weight='balanced', n_jobs=-1))]\n",
    "\n",
    "# create the pipeline: pipeline \n",
    "pipeline_logreg = Pipeline(steps)\n",
    "\n",
    "# start count time\n",
    "start_time = time.time()\n",
    "\n",
    "# fit to the training set\n",
    "pipeline_logreg.fit(X_train, y_train)\n",
    "logreg_prediction = pipeline_logreg.predict(X_test)\n",
    "\n",
    "# get the classification report\n",
    "logreg_report = classification_report(y_test, logreg_prediction)\n",
    "\n",
    "print(logreg_report)\n",
    "\n",
    "# calculate time\n",
    "elapsed_time = time.time() - start_time\n",
    "\n",
    "print(\"\\ntime: \", elapsed_time)"
   ]
  },
  {
   "cell_type": "markdown",
   "metadata": {},
   "source": [
    "### 5. Train RandomForestClassifier model with default parameters on 20% sample data"
   ]
  },
  {
   "cell_type": "code",
   "execution_count": 6,
   "metadata": {},
   "outputs": [
    {
     "name": "stderr",
     "output_type": "stream",
     "text": [
      "/root/anaconda3/lib/python3.7/site-packages/sklearn/ensemble/forest.py:245: FutureWarning: The default value of n_estimators will change from 10 in version 0.20 to 100 in 0.22.\n",
      "  \"10 in version 0.20 to 100 in 0.22.\", FutureWarning)\n"
     ]
    },
    {
     "name": "stdout",
     "output_type": "stream",
     "text": [
      "              precision    recall  f1-score   support\n",
      "\n",
      "           0       0.99      1.00      0.99     88001\n",
      "           1       0.60      0.07      0.12       906\n",
      "\n",
      "    accuracy                           0.99     88907\n",
      "   macro avg       0.79      0.53      0.56     88907\n",
      "weighted avg       0.99      0.99      0.99     88907\n",
      "\n",
      "\n",
      "time:  1.0376472473144531\n"
     ]
    }
   ],
   "source": [
    "# train default RandomForest on 20% of the data\n",
    "rfmodel= RandomForestClassifier(random_state = 32, n_jobs = -1)\n",
    "\n",
    "# start count time\n",
    "start_time = time.time()\n",
    "\n",
    "# fit to the training set\n",
    "rfmodel.fit(X_train, y_train)\n",
    "rfmodel_prediction = rfmodel.predict( X_test )\n",
    "\n",
    "# get the classification report\n",
    "rfmodel_report = classification_report(y_test, rfmodel_prediction )\n",
    "\n",
    "print(rfmodel_report)\n",
    "\n",
    "# calculate time\n",
    "elapsed_time = time.time() - start_time\n",
    "\n",
    "print(\"\\ntime: \", elapsed_time)"
   ]
  },
  {
   "cell_type": "markdown",
   "metadata": {},
   "source": [
    "### 6. Train GradientBoostingClassifier model with default parameters on 20% sample data"
   ]
  },
  {
   "cell_type": "code",
   "execution_count": 7,
   "metadata": {},
   "outputs": [
    {
     "name": "stdout",
     "output_type": "stream",
     "text": [
      "              precision    recall  f1-score   support\n",
      "\n",
      "           0       0.99      1.00      0.99     88001\n",
      "           1       0.38      0.02      0.04       906\n",
      "\n",
      "    accuracy                           0.99     88907\n",
      "   macro avg       0.68      0.51      0.52     88907\n",
      "weighted avg       0.98      0.99      0.99     88907\n",
      "\n",
      "\n",
      "time:  22.58075785636902\n"
     ]
    }
   ],
   "source": [
    "# train default Ra on 20% of the data\n",
    "gbmodel= GradientBoostingClassifier(random_state = 32)\n",
    "\n",
    "# start count time\n",
    "start_time = time.time()\n",
    "\n",
    "# fit to the training set\n",
    "gbmodel.fit(X_train, y_train)\n",
    "gbmodel_prediction = gbmodel.predict(X_test)\n",
    "\n",
    "# get the classification report\n",
    "gbmodel_report = classification_report(y_test, gbmodel_prediction)\n",
    "\n",
    "print(gbmodel_report)\n",
    "\n",
    "# calculate time\n",
    "elapsed_time = time.time() - start_time\n",
    "\n",
    "print(\"\\ntime: \", elapsed_time)"
   ]
  },
  {
   "cell_type": "markdown",
   "metadata": {},
   "source": [
    "### 7. Train AdaBoostClassifier model with default parameters on 20% sample data"
   ]
  },
  {
   "cell_type": "code",
   "execution_count": 8,
   "metadata": {},
   "outputs": [
    {
     "name": "stdout",
     "output_type": "stream",
     "text": [
      "              precision    recall  f1-score   support\n",
      "\n",
      "           0       0.99      1.00      0.99     88001\n",
      "           1       0.45      0.02      0.04       906\n",
      "\n",
      "    accuracy                           0.99     88907\n",
      "   macro avg       0.72      0.51      0.52     88907\n",
      "weighted avg       0.98      0.99      0.99     88907\n",
      "\n",
      "\n",
      "time:  8.304094076156616\n"
     ]
    }
   ],
   "source": [
    "# train default Ra on 20% of the data\n",
    "abmodel= AdaBoostClassifier(random_state = 32)\n",
    "\n",
    "# start count time\n",
    "start_time = time.time()\n",
    "\n",
    "# fit to the training set\n",
    "abmodel.fit(X_train, y_train)\n",
    "abmodel_prediction = abmodel.predict( X_test )\n",
    "\n",
    "# get the classification report\n",
    "abmodel_report = classification_report(y_test, abmodel_prediction )\n",
    "\n",
    "print(abmodel_report)\n",
    "\n",
    "# calculate time\n",
    "elapsed_time = time.time() - start_time\n",
    "\n",
    "print(\"\\ntime: \", elapsed_time)"
   ]
  },
  {
   "cell_type": "code",
   "execution_count": 9,
   "metadata": {},
   "outputs": [
    {
     "name": "stdout",
     "output_type": "stream",
     "text": [
      "              precision    recall  f1-score   support\n",
      "\n",
      "           0       0.99      1.00      1.00     88001\n",
      "           1       0.68      0.15      0.24       906\n",
      "\n",
      "    accuracy                           0.99     88907\n",
      "   macro avg       0.83      0.57      0.62     88907\n",
      "weighted avg       0.99      0.99      0.99     88907\n",
      "\n",
      "\n",
      "time:  67.11033248901367\n"
     ]
    }
   ],
   "source": [
    "# AdaBoostClassifie with randomforest estimator\n",
    "abmodel_rf= AdaBoostClassifier(base_estimator=rfmodel,random_state = 32)\n",
    "\n",
    "# start count time\n",
    "start_time = time.time()\n",
    "\n",
    "# fit to the training set\n",
    "abmodel_rf.fit(X_train, y_train)\n",
    "abmodel_prediction_rf = abmodel_rf.predict( X_test )\n",
    "\n",
    "# get the classification report\n",
    "abmodel_report_rf = classification_report(y_test, abmodel_prediction_rf )\n",
    "\n",
    "print(abmodel_report_rf)\n",
    "\n",
    "# calculate time\n",
    "elapsed_time = time.time() - start_time\n",
    "\n",
    "print(\"\\ntime: \", elapsed_time)"
   ]
  },
  {
   "cell_type": "code",
   "execution_count": 10,
   "metadata": {},
   "outputs": [
    {
     "data": {
      "text/plain": [
       "Current_inventory               0.124496\n",
       "Source_performance_12_months    0.098000\n",
       "Source_performance_6_months     0.090295\n",
       "Sales_quantity_9_months         0.090015\n",
       "Forecast_sales_9_months         0.086958\n",
       "Forecast_sales_6_months         0.085771\n",
       "Forecast_sales_3_months         0.083274\n",
       "Sales_quantity_6_months         0.080771\n",
       "Sales_quantity_3_months         0.073976\n",
       "Sales_quantity_1_months         0.055563\n",
       "Minimum_recommended_stock       0.055405\n",
       "Transit_time                    0.042160\n",
       "Flag_ppap_risk                  0.015267\n",
       "Flag_deck_risk                  0.011923\n",
       "Flag_stop_auto_buy              0.003520\n",
       "Source_issue_identifying        0.002426\n",
       "Flag_oe_constraint              0.000179\n",
       "dtype: float64"
      ]
     },
     "execution_count": 10,
     "metadata": {},
     "output_type": "execute_result"
    }
   ],
   "source": [
    "feature_import_rf = pd.Series(rfmodel.feature_importances_, index=X_test.columns)\n",
    "feature_import_rf.sort_values(ascending=False)"
   ]
  },
  {
   "cell_type": "code",
   "execution_count": 11,
   "metadata": {},
   "outputs": [
    {
     "data": {
      "text/plain": [
       "Current_inventory               0.468843\n",
       "Sales_quantity_1_months         0.159989\n",
       "Sales_quantity_3_months         0.086973\n",
       "Forecast_sales_3_months         0.070456\n",
       "Sales_quantity_9_months         0.047435\n",
       "Source_performance_12_months    0.037267\n",
       "Forecast_sales_6_months         0.029619\n",
       "Forecast_sales_9_months         0.027640\n",
       "Minimum_recommended_stock       0.024934\n",
       "Sales_quantity_6_months         0.015374\n",
       "Source_performance_6_months     0.013599\n",
       "Transit_time                    0.009371\n",
       "Flag_ppap_risk                  0.003585\n",
       "Source_issue_identifying        0.002842\n",
       "Flag_deck_risk                  0.002072\n",
       "Flag_oe_constraint              0.000000\n",
       "Flag_stop_auto_buy              0.000000\n",
       "dtype: float64"
      ]
     },
     "execution_count": 11,
     "metadata": {},
     "output_type": "execute_result"
    }
   ],
   "source": [
    "feature_import_gb = pd.Series(gbmodel.feature_importances_, index=X_test.columns)\n",
    "feature_import_gb.sort_values(ascending=False)"
   ]
  },
  {
   "cell_type": "code",
   "execution_count": 12,
   "metadata": {},
   "outputs": [
    {
     "name": "stdout",
     "output_type": "stream",
     "text": [
      "              precision    recall  f1-score   support\n",
      "\n",
      "           0       0.99      1.00      0.99     88001\n",
      "           1       0.48      0.07      0.13       906\n",
      "\n",
      "    accuracy                           0.99     88907\n",
      "   macro avg       0.74      0.54      0.56     88907\n",
      "weighted avg       0.99      0.99      0.99     88907\n",
      "\n",
      "\n",
      "time:  2753.9810507297516\n"
     ]
    }
   ],
   "source": [
    "# Train default Ra on 20% of the data\n",
    "\n",
    "abmodel_gb= AdaBoostClassifier(base_estimator=gbmodel,random_state = 32)\n",
    "\n",
    "# start count time\n",
    "start_time = time.time()\n",
    "\n",
    "# Fit to the training set\n",
    "abmodel_gb.fit(X_train, y_train)\n",
    "abmodel_prediction_gb = abmodel_gb.predict( X_test )\n",
    "\n",
    "# get the classification report\n",
    "abmodel_report_gb = classification_report(y_test, abmodel_prediction_gb )\n",
    "\n",
    "#print the report\n",
    "print(abmodel_report_gb)\n",
    "\n",
    "# calculate time\n",
    "elapsed_time = time.time() - start_time\n",
    "\n",
    "print(\"\\ntime: \", elapsed_time)"
   ]
  },
  {
   "cell_type": "code",
   "execution_count": 15,
   "metadata": {},
   "outputs": [
    {
     "data": {
      "text/plain": [
       "Text(0.5, 1.0, 'ROC Curve')"
      ]
     },
     "execution_count": 15,
     "metadata": {},
     "output_type": "execute_result"
    },
    {
     "data": {
      "image/png": "[encoded data removed]",
      "text/plain": [
       "<Figure size 648x648 with 1 Axes>"
      ]
     },
     "metadata": {
      "needs_background": "light"
     },
     "output_type": "display_data"
    }
   ],
   "source": [
    "#plot ROC Curves\n",
    "fig , ax1 = plt.subplots(figsize=(9,9) )\n",
    "plt.plot([0, 1], [0, 1], 'k--')\n",
    "estimators =[pipeline_knn, pipeline_logreg, rfmodel, gbmodel, abmodel ]\n",
    "classifiers=['KNN', 'LogisticRegression', 'RandomForestClassifier','GradientBoostingClassifier',\n",
    "           'AdaBoostClassifier']\n",
    "colors = ['b', 'g', 'r', 'c', 'm']\n",
    "for i, estimator in enumerate(estimators):\n",
    "    y_pred_prob = estimator.predict_proba(X_test)[:,1]\n",
    "    fpr, tpr, thresholds= roc_curve(y_test, y_pred_prob)\n",
    "    plt.plot(fpr, tpr, label=classifiers[i],color=colors[i]) \n",
    "plt.xlabel('False Positive Rate')\n",
    "plt.ylabel('True Positive Rate')\n",
    "plt.legend(loc=4)\n",
    "plt.title('ROC Curve')"
   ]
  },
  {
   "cell_type": "code",
   "execution_count": 16,
   "metadata": {},
   "outputs": [
    {
     "data": {
      "text/plain": [
       "Text(0.5, 1.0, 'Recall Precision Curve')"
      ]
     },
     "execution_count": 16,
     "metadata": {},
     "output_type": "execute_result"
    },
    {
     "data": {
      "image/png": "[encoded data removed]",
      "text/plain": [
       "<Figure size 648x648 with 1 Axes>"
      ]
     },
     "metadata": {
      "needs_background": "light"
     },
     "output_type": "display_data"
    }
   ],
   "source": [
    "#plot Recall-Precision Curves\n",
    "fig , ax1 = plt.subplots(figsize=(9,9) )\n",
    "estimators =[pipeline_knn, pipeline_logreg, rfmodel, gbmodel, abmodel ]\n",
    "classifiers=['KNN',\n",
    "             'LogisticRegression',\n",
    "             'RandomForestClassifier',\n",
    "             'GradientBoostingClassifier',\n",
    "             'AdaBoostClassifier']\n",
    "colors = ['b', 'g', 'r', 'c', 'm']\n",
    "for i, estimator in enumerate(estimators):\n",
    "    y_pred_prob = estimator.predict_proba(X_test)[:,1]\n",
    "    precision, recall, _ = precision_recall_curve(y_test,y_pred_prob)\n",
    "    average_precision= average_precision_score(y_test, y_pred_prob, average=\"micro\")\n",
    "    plt.plot(recall, precision, label='%s (average=%.3f)'%(classifiers[i],average_precision), color=colors[i])\n",
    "plt.xlabel('Recall')\n",
    "plt.ylabel('Precision')\n",
    "plt.legend(loc=1)\n",
    "plt.title('Recall Precision Curve')\n"
   ]
  },
  {
   "cell_type": "markdown",
   "metadata": {},
   "source": [
    "## Conclusion\n",
    "- As we can see here, **RandomForestClassifier, GradientBoostingClassifier, AdaBoostClassifier** has better precision value. So, I decided to tune and validate these models. \n",
    "- Let's take a look to 04_Tuning_Model file to see the optimal parametters of models\n"
   ]
  },
  {
   "cell_type": "code",
   "execution_count": null,
   "metadata": {},
   "outputs": [],
   "source": []
  }
 ],
 "metadata": {
  "kernelspec": {
   "display_name": "Python 3",
   "language": "python",
   "name": "python3"
  },
  "language_info": {
   "codemirror_mode": {
    "name": "ipython",
    "version": 3
   },
   "file_extension": ".py",
   "mimetype": "text/x-python",
   "name": "python",
   "nbconvert_exporter": "python",
   "pygments_lexer": "ipython3",
   "version": "3.7.3"
  }
 },
 "nbformat": 4,
 "nbformat_minor": 2
}
