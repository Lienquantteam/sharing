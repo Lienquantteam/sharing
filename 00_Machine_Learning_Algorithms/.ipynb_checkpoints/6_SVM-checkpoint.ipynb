{
 "cells": [
  {
   "cell_type": "code",
   "execution_count": 12,
   "metadata": {},
   "outputs": [
    {
     "data": {
      "text/html": [
       "<style>.container { width:100% !important; }</style>"
      ],
      "text/plain": [
       "<IPython.core.display.HTML object>"
      ]
     },
     "metadata": {},
     "output_type": "display_data"
    }
   ],
   "source": [
    "from IPython.core.display import display, HTML\n",
    "display(HTML(\"<style>.container { width:100% !important; }</style>\"))"
   ]
  },
  {
   "cell_type": "code",
   "execution_count": 13,
   "metadata": {},
   "outputs": [],
   "source": [
    "import matplotlib.pyplot as plt\n",
    "from sklearn import datasets\n",
    "import numpy as np"
   ]
  },
  {
   "cell_type": "code",
   "execution_count": 14,
   "metadata": {},
   "outputs": [],
   "source": [
    "digits = datasets.load_digits()"
   ]
  },
  {
   "cell_type": "code",
   "execution_count": 15,
   "metadata": {},
   "outputs": [
    {
     "data": {
      "text/plain": [
       "1797"
      ]
     },
     "execution_count": 15,
     "metadata": {},
     "output_type": "execute_result"
    }
   ],
   "source": [
    "len(digits.data)"
   ]
  },
  {
   "cell_type": "code",
   "execution_count": 16,
   "metadata": {},
   "outputs": [
    {
     "data": {
      "text/plain": [
       "(1797, 64)"
      ]
     },
     "execution_count": 16,
     "metadata": {},
     "output_type": "execute_result"
    }
   ],
   "source": [
    "digits.data.shape"
   ]
  },
  {
   "cell_type": "code",
   "execution_count": 17,
   "metadata": {},
   "outputs": [
    {
     "data": {
      "text/plain": [
       "array([ 0.,  0.,  5., 13.,  9.,  1.,  0.,  0.,  0.,  0., 13., 15., 10.,\n",
       "       15.,  5.,  0.,  0.,  3., 15.,  2.,  0., 11.,  8.,  0.,  0.,  4.,\n",
       "       12.,  0.,  0.,  8.,  8.,  0.,  0.,  5.,  8.,  0.,  0.,  9.,  8.,\n",
       "        0.,  0.,  4., 11.,  0.,  1., 12.,  7.,  0.,  0.,  2., 14.,  5.,\n",
       "       10., 12.,  0.,  0.,  0.,  0.,  6., 13., 10.,  0.,  0.,  0.])"
      ]
     },
     "execution_count": 17,
     "metadata": {},
     "output_type": "execute_result"
    }
   ],
   "source": [
    "digits.data[0]"
   ]
  },
  {
   "cell_type": "code",
   "execution_count": 18,
   "metadata": {},
   "outputs": [
    {
     "data": {
      "text/plain": [
       "array([0, 1, 2, ..., 8, 9, 8])"
      ]
     },
     "execution_count": 18,
     "metadata": {},
     "output_type": "execute_result"
    }
   ],
   "source": [
    "digits.target"
   ]
  },
  {
   "cell_type": "code",
   "execution_count": 19,
   "metadata": {},
   "outputs": [],
   "source": [
    "X,y = digits.data, digits.target"
   ]
  },
  {
   "cell_type": "code",
   "execution_count": 21,
   "metadata": {},
   "outputs": [
    {
     "data": {
      "text/plain": [
       "SVC(C=100, cache_size=200, class_weight=None, coef0=0.0,\n",
       "    decision_function_shape='ovr', degree=3, gamma=0.001, kernel='rbf',\n",
       "    max_iter=-1, probability=False, random_state=None, shrinking=True,\n",
       "    tol=0.001, verbose=False)"
      ]
     },
     "execution_count": 21,
     "metadata": {},
     "output_type": "execute_result"
    }
   ],
   "source": [
    "from sklearn.model_selection import train_test_split\n",
    "\n",
    "X_train, X_test, y_train, y_test = train_test_split(X,y,test_size=0.3)\n",
    "\n",
    "from sklearn import svm\n",
    "\n",
    "clf = svm.SVC(gamma=0.001, C=100) \n",
    "clf.fit(X_train,y_train)"
   ]
  },
  {
   "cell_type": "code",
   "execution_count": 22,
   "metadata": {},
   "outputs": [
    {
     "data": {
      "text/plain": [
       "array([1, 2, 9, 8, 5, 6, 7, 4, 4, 9, 7, 1, 5, 0, 0, 6, 2, 6, 6, 8, 4, 0,\n",
       "       6, 9, 4, 5, 1, 5, 3, 3, 6, 2, 8, 8, 6, 8, 8, 5, 6, 2, 8, 5, 6, 7,\n",
       "       6, 4, 2, 9, 4, 5, 8, 3, 1, 7, 6, 6, 8, 3, 3, 8, 1, 5, 6, 7, 3, 0,\n",
       "       5, 2, 1, 8, 3, 4, 2, 3, 9, 5, 7, 3, 1, 0, 2, 5, 7, 2, 5, 5, 8, 5,\n",
       "       2, 9, 3, 9, 6, 8, 0, 9, 2, 5, 8, 8, 6, 6, 5, 9, 1, 7, 3, 9, 5, 5,\n",
       "       9, 5, 5, 3, 2, 4, 0, 9, 4, 5, 1, 5, 9, 6, 1, 9, 3, 8, 8, 6, 7, 5,\n",
       "       4, 8, 7, 9, 2, 7, 7, 1, 7, 8, 9, 4, 3, 2, 4, 4, 2, 1, 5, 1, 5, 4,\n",
       "       1, 8, 3, 4, 3, 9, 6, 9, 0, 4, 9, 3, 1, 4, 1, 4, 4, 6, 4, 0, 6, 2,\n",
       "       2, 5, 0, 2, 4, 8, 1, 3, 1, 1, 8, 0, 9, 0, 9, 8, 9, 3, 0, 1, 5, 0,\n",
       "       9, 4, 0, 1, 0, 8, 6, 5, 1, 3, 2, 8, 6, 2, 8, 2, 1, 7, 2, 9, 3, 4,\n",
       "       5, 4, 0, 5, 6, 7, 7, 1, 2, 2, 5, 2, 2, 9, 7, 3, 1, 8, 8, 0, 5, 5,\n",
       "       1, 6, 9, 0, 7, 0, 6, 5, 7, 9, 5, 6, 6, 9, 6, 1, 2, 2, 0, 5, 6, 1,\n",
       "       1, 0, 5, 2, 8, 7, 8, 4, 7, 7, 5, 2, 2, 4, 7, 9, 3, 3, 7, 7, 3, 0,\n",
       "       3, 9, 3, 5, 3, 2, 1, 5, 1, 8, 9, 4, 3, 3, 9, 7, 7, 0, 5, 5, 9, 7,\n",
       "       2, 2, 1, 8, 7, 9, 9, 0, 8, 5, 5, 1, 4, 4, 1, 8, 6, 4, 1, 8, 7, 5,\n",
       "       3, 4, 8, 6, 3, 0, 0, 9, 6, 0, 2, 1, 1, 9, 8, 9, 5, 3, 6, 7, 0, 3,\n",
       "       1, 0, 1, 7, 0, 2, 3, 1, 5, 5, 0, 6, 3, 5, 3, 1, 3, 4, 8, 3, 8, 3,\n",
       "       7, 7, 9, 0, 4, 0, 9, 2, 2, 9, 9, 5, 7, 4, 6, 6, 6, 6, 3, 0, 5, 7,\n",
       "       1, 5, 7, 9, 9, 0, 7, 6, 9, 2, 0, 7, 3, 1, 5, 0, 5, 0, 5, 8, 2, 3,\n",
       "       8, 7, 0, 3, 6, 1, 4, 4, 9, 3, 4, 6, 0, 1, 1, 1, 8, 2, 1, 2, 6, 0,\n",
       "       4, 6, 4, 5, 1, 2, 9, 3, 3, 7, 6, 7, 9, 4, 6, 2, 2, 9, 9, 6, 4, 8,\n",
       "       4, 8, 5, 7, 3, 5, 7, 3, 1, 5, 8, 8, 0, 2, 2, 9, 2, 2, 5, 2, 1, 6,\n",
       "       8, 0, 8, 6, 4, 9, 7, 7, 0, 5, 6, 7, 3, 7, 9, 8, 3, 3, 3, 2, 9, 8,\n",
       "       5, 3, 7, 8, 2, 5, 7, 3, 1, 7, 0, 9, 8, 9, 2, 0, 0, 9, 7, 7, 4, 9,\n",
       "       1, 9, 7, 2, 1, 1, 8, 8, 5, 7, 5, 2])"
      ]
     },
     "execution_count": 22,
     "metadata": {},
     "output_type": "execute_result"
    }
   ],
   "source": [
    "y_pred = clf.predict(X_test)\n",
    "y_pred"
   ]
  },
  {
   "cell_type": "code",
   "execution_count": 23,
   "metadata": {},
   "outputs": [
    {
     "data": {
      "text/plain": [
       "array([1, 2, 9, 8, 5, 6, 7, 4, 4, 9, 7, 1, 5, 0, 0, 6, 2, 6, 6, 8, 4, 0,\n",
       "       6, 9, 4, 5, 1, 5, 3, 3, 6, 2, 8, 8, 6, 8, 8, 5, 6, 2, 8, 5, 6, 7,\n",
       "       6, 4, 2, 9, 4, 5, 8, 3, 1, 7, 6, 6, 6, 3, 3, 8, 1, 5, 6, 7, 3, 0,\n",
       "       5, 2, 1, 8, 3, 4, 2, 3, 9, 5, 7, 3, 1, 0, 2, 5, 7, 2, 5, 5, 8, 5,\n",
       "       2, 9, 3, 9, 6, 8, 0, 9, 2, 5, 8, 8, 6, 6, 5, 9, 1, 7, 3, 9, 5, 5,\n",
       "       9, 5, 5, 3, 2, 4, 0, 9, 4, 5, 1, 5, 9, 6, 1, 9, 3, 8, 8, 6, 7, 5,\n",
       "       4, 8, 7, 9, 2, 7, 7, 1, 7, 8, 9, 4, 3, 2, 4, 4, 2, 1, 5, 1, 5, 4,\n",
       "       1, 8, 3, 4, 3, 9, 6, 9, 0, 4, 9, 3, 1, 4, 1, 4, 4, 6, 4, 0, 6, 2,\n",
       "       2, 5, 0, 2, 4, 8, 1, 3, 1, 1, 8, 0, 9, 0, 9, 8, 9, 3, 0, 1, 5, 0,\n",
       "       9, 4, 0, 1, 0, 8, 6, 5, 1, 3, 2, 8, 6, 2, 8, 2, 1, 7, 2, 9, 3, 4,\n",
       "       5, 0, 0, 5, 6, 7, 7, 1, 2, 2, 5, 2, 2, 9, 7, 3, 1, 8, 8, 0, 5, 5,\n",
       "       1, 6, 9, 0, 7, 0, 6, 5, 7, 9, 5, 6, 6, 9, 6, 1, 2, 2, 0, 5, 6, 9,\n",
       "       1, 0, 5, 2, 8, 7, 8, 4, 7, 7, 5, 2, 2, 4, 7, 9, 3, 3, 7, 7, 3, 0,\n",
       "       3, 9, 3, 5, 3, 2, 8, 5, 1, 8, 9, 4, 3, 3, 9, 7, 7, 0, 5, 5, 9, 7,\n",
       "       2, 2, 1, 8, 7, 9, 9, 0, 8, 5, 5, 1, 4, 4, 1, 8, 6, 4, 1, 8, 7, 5,\n",
       "       3, 4, 8, 6, 3, 0, 0, 9, 6, 0, 2, 1, 1, 9, 8, 5, 5, 3, 6, 7, 0, 3,\n",
       "       8, 0, 1, 7, 0, 2, 3, 1, 5, 5, 0, 6, 3, 5, 3, 1, 3, 4, 8, 3, 8, 3,\n",
       "       2, 7, 9, 0, 4, 0, 9, 2, 2, 9, 9, 5, 7, 4, 6, 6, 6, 6, 3, 0, 5, 7,\n",
       "       1, 5, 7, 9, 9, 0, 7, 6, 9, 2, 0, 7, 3, 1, 5, 0, 5, 0, 5, 8, 2, 3,\n",
       "       8, 7, 0, 3, 6, 1, 4, 4, 9, 3, 4, 6, 0, 1, 1, 1, 8, 2, 1, 2, 6, 0,\n",
       "       4, 6, 4, 5, 1, 2, 9, 3, 3, 7, 6, 7, 5, 4, 6, 2, 2, 9, 9, 6, 4, 8,\n",
       "       4, 8, 5, 7, 3, 5, 7, 3, 1, 5, 8, 8, 0, 2, 2, 9, 2, 2, 5, 2, 1, 6,\n",
       "       8, 0, 8, 6, 4, 9, 7, 7, 0, 5, 6, 7, 3, 7, 9, 8, 3, 3, 3, 2, 9, 8,\n",
       "       5, 3, 7, 8, 2, 5, 7, 3, 1, 7, 0, 9, 8, 9, 2, 0, 0, 9, 7, 7, 4, 9,\n",
       "       1, 9, 7, 2, 1, 1, 8, 8, 5, 7, 5, 2])"
      ]
     },
     "execution_count": 23,
     "metadata": {},
     "output_type": "execute_result"
    }
   ],
   "source": [
    "y_test"
   ]
  },
  {
   "cell_type": "code",
   "execution_count": 24,
   "metadata": {},
   "outputs": [
    {
     "name": "stdout",
     "output_type": "stream",
     "text": [
      "Accuracy is  98.51851851851852 %\n"
     ]
    }
   ],
   "source": [
    "from sklearn.metrics import accuracy_score \n",
    "print(\"Accuracy is \", accuracy_score(y_test,y_pred)*100,\"%\") "
   ]
  },
  {
   "cell_type": "code",
   "execution_count": 25,
   "metadata": {},
   "outputs": [
    {
     "data": {
      "image/png": "[encoded data removed]",
      "text/plain": [
       "<Figure size 432x288 with 1 Axes>"
      ]
     },
     "metadata": {
      "needs_background": "light"
     },
     "output_type": "display_data"
    }
   ],
   "source": [
    "plt.imshow(digits.images[-5], cmap=plt.cm.gray_r, interpolation='nearest')\n",
    "plt.show()"
   ]
  },
  {
   "cell_type": "code",
   "execution_count": 26,
   "metadata": {},
   "outputs": [
    {
     "data": {
      "text/plain": [
       "array([ 0.,  0.,  4., 10., 13.,  6.,  0.,  0.,  0.,  1., 16., 14., 12.,\n",
       "       16.,  3.,  0.,  0.,  4., 16.,  6.,  3., 16.,  4.,  0.,  0.,  0.,\n",
       "       12., 16., 16., 16.,  5.,  0.,  0.,  0.,  0.,  4.,  4., 16.,  8.,\n",
       "        0.,  0.,  0.,  0.,  0.,  0., 15.,  5.,  0.,  0.,  0.,  5.,  7.,\n",
       "        7., 16.,  4.,  0.,  0.,  0.,  2., 14., 15.,  9.,  0.,  0.])"
      ]
     },
     "execution_count": 26,
     "metadata": {},
     "output_type": "execute_result"
    }
   ],
   "source": [
    "digits.data[-5]"
   ]
  },
  {
   "cell_type": "code",
   "execution_count": 27,
   "metadata": {},
   "outputs": [
    {
     "data": {
      "text/plain": [
       "numpy.ndarray"
      ]
     },
     "execution_count": 27,
     "metadata": {},
     "output_type": "execute_result"
    }
   ],
   "source": [
    "type(digits.data[-5])"
   ]
  },
  {
   "cell_type": "code",
   "execution_count": 29,
   "metadata": {},
   "outputs": [
    {
     "data": {
      "text/plain": [
       "9"
      ]
     },
     "execution_count": 29,
     "metadata": {},
     "output_type": "execute_result"
    }
   ],
   "source": [
    "num = clf.predict(np.array([digits.data[-5]]))\n",
    "num[0]"
   ]
  },
  {
   "cell_type": "code",
   "execution_count": 30,
   "metadata": {},
   "outputs": [
    {
     "data": {
      "image/png": "[encoded data removed]",
      "text/plain": [
       "<Figure size 432x288 with 1 Axes>"
      ]
     },
     "metadata": {
      "needs_background": "light"
     },
     "output_type": "display_data"
    }
   ],
   "source": [
    "plt.imshow(digits.images[0], cmap=plt.cm.gray_r, interpolation='nearest')\n",
    "plt.show()"
   ]
  },
  {
   "cell_type": "code",
   "execution_count": 31,
   "metadata": {},
   "outputs": [
    {
     "data": {
      "text/plain": [
       "array([ 0.,  0.,  5., 13.,  9.,  1.,  0.,  0.,  0.,  0., 13., 15., 10.,\n",
       "       15.,  5.,  0.,  0.,  3., 15.,  2.,  0., 11.,  8.,  0.,  0.,  4.,\n",
       "       12.,  0.,  0.,  8.,  8.,  0.,  0.,  5.,  8.,  0.,  0.,  9.,  8.,\n",
       "        0.,  0.,  4., 11.,  0.,  1., 12.,  7.,  0.,  0.,  2., 14.,  5.,\n",
       "       10., 12.,  0.,  0.,  0.,  0.,  6., 13., 10.,  0.,  0.,  0.])"
      ]
     },
     "execution_count": 31,
     "metadata": {},
     "output_type": "execute_result"
    }
   ],
   "source": [
    "digits.data[0]"
   ]
  },
  {
   "cell_type": "code",
   "execution_count": 32,
   "metadata": {},
   "outputs": [
    {
     "data": {
      "text/plain": [
       "numpy.ndarray"
      ]
     },
     "execution_count": 32,
     "metadata": {},
     "output_type": "execute_result"
    }
   ],
   "source": [
    "type(digits.data[0])"
   ]
  },
  {
   "cell_type": "code",
   "execution_count": 33,
   "metadata": {},
   "outputs": [
    {
     "data": {
      "text/plain": [
       "array([0])"
      ]
     },
     "execution_count": 33,
     "metadata": {},
     "output_type": "execute_result"
    }
   ],
   "source": [
    "num = clf.predict(np.array([digits.data[0]]))\n",
    "num"
   ]
  },
  {
   "cell_type": "code",
   "execution_count": 34,
   "metadata": {},
   "outputs": [
    {
     "name": "stdout",
     "output_type": "stream",
     "text": [
      "[[48  0  0  0  1  0  0  0  0  0]\n",
      " [ 0 52  0  0  0  0  0  0  0  0]\n",
      " [ 0  0 55  0  0  0  0  1  0  0]\n",
      " [ 0  0  0 55  0  0  0  0  0  0]\n",
      " [ 0  0  0  0 43  0  0  0  0  0]\n",
      " [ 0  0  0  0  0 65  0  0  0  2]\n",
      " [ 0  0  0  0  0  0 50  0  1  0]\n",
      " [ 0  0  0  0  0  0  0 54  0  0]\n",
      " [ 0  2  0  0  0  0  0  0 53  0]\n",
      " [ 0  1  0  0  0  0  0  0  0 57]]\n",
      "              precision    recall  f1-score   support\n",
      "\n",
      "           0       1.00      0.98      0.99        49\n",
      "           1       0.95      1.00      0.97        52\n",
      "           2       1.00      0.98      0.99        56\n",
      "           3       1.00      1.00      1.00        55\n",
      "           4       0.98      1.00      0.99        43\n",
      "           5       1.00      0.97      0.98        67\n",
      "           6       1.00      0.98      0.99        51\n",
      "           7       0.98      1.00      0.99        54\n",
      "           8       0.98      0.96      0.97        55\n",
      "           9       0.97      0.98      0.97        58\n",
      "\n",
      "    accuracy                           0.99       540\n",
      "   macro avg       0.99      0.99      0.99       540\n",
      "weighted avg       0.99      0.99      0.99       540\n",
      "\n"
     ]
    }
   ],
   "source": [
    "from sklearn.metrics import classification_report, confusion_matrix  \n",
    "print(confusion_matrix(y_test,y_pred))  \n",
    "print(classification_report(y_test,y_pred))  "
   ]
  },
  {
   "cell_type": "code",
   "execution_count": null,
   "metadata": {},
   "outputs": [],
   "source": []
  }
 ],
 "metadata": {
  "kernelspec": {
   "display_name": "Python 3",
   "language": "python",
   "name": "python3"
  },
  "language_info": {
   "codemirror_mode": {
    "name": "ipython",
    "version": 3
   },
   "file_extension": ".py",
   "mimetype": "text/x-python",
   "name": "python",
   "nbconvert_exporter": "python",
   "pygments_lexer": "ipython3",
   "version": "3.6.8"
  }
 },
 "nbformat": 4,
 "nbformat_minor": 2
}
